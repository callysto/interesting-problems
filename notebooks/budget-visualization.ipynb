{
 "cells": [
  {
   "cell_type": "markdown",
   "metadata": {},
   "source": [
    "![Callysto.ca Banner](https://github.com/callysto/curriculum-notebooks/blob/master/callysto-notebook-banner-top.jpg?raw=true)\n",
    "\n",
    "<a href=\"https://hub.callysto.ca/jupyter/hub/user-redirect/git-pull?repo=https%3A%2F%2Fgithub.com%2Fcallysto%2Fcurriculum-notebooks&branch=main&subPath=notebooks/budget-visualization.ipynb&depth=1\" target=\"_parent\"><img src=\"https://raw.githubusercontent.com/callysto/curriculum-notebooks/master/open-in-callysto-button.svg?sanitize=true\" width=\"123\" height=\"24\" alt=\"Open in Callysto\"/></a>"
   ]
  },
  {
   "cell_type": "markdown",
   "metadata": {},
   "source": [
    "# Household Budget Visualization\n",
    "\n",
    "### Can we get a better understanding of our monthly household budget?\n",
    "\n",
    "Let's try out [sunburst charts](https://plotly.com/python/sunburst-charts) and [treemaps](https://plotly.com/python/treemaps) for visualizing money that comes in and goes out.\n",
    "\n",
    "This first code cell creates a [CSV](https://en.wikipedia.org/wiki/Comma-separated_values) file. Feel free to edit the categories and amounts and add or remove lines.\n",
    "\n",
    "Then `►Run` the cell to create the file."
   ]
  },
  {
   "cell_type": "code",
   "execution_count": null,
   "metadata": {},
   "outputs": [],
   "source": [
    "%%writefile budget.csv\n",
    "InOut,Category,Label,Amount\n",
    "Income,Job,Restaurant,2500\n",
    "Income,Job,Delivery,500\n",
    "Income,Investment,Dividends,100\n",
    "Expense,Food,Groceries,200\n",
    "Expense,Food,Restaurants,100\n",
    "Expense,Home,Water & Waste,100\n",
    "Expense,Home,Energy,150\n",
    "Expense,Home,Insurance,100\n",
    "Expense,Home,Property Tax,75\n",
    "Expense,Home,Data,100\n",
    "Expense,Entertainment,Streaming,25\n",
    "Expense,Entertainment,Toys,50\n",
    "Expense,Transportation,Insurance,75\n",
    "Expense,Transportation,Fuel,50\n",
    "Expense,Donations,Charity,300\n",
    "Expense,Home,Mortgage,1000\n",
    "Expense,Investment,TFSA,500\n",
    "Expense,Investment,RRSP,100"
   ]
  },
  {
   "cell_type": "markdown",
   "metadata": {},
   "source": [
    "Now that we have a file containing our budget information, let's create some visualizations."
   ]
  },
  {
   "cell_type": "code",
   "execution_count": null,
   "metadata": {},
   "outputs": [],
   "source": [
    "import pandas as pd\n",
    "budget = pd.read_csv('budget.csv')\n",
    "import plotly.express as px\n",
    "px.sunburst(budget, path=['InOut', 'Category', 'Label'], values='Amount', color='Category', title='Budget Sunburst').show()\n",
    "px.treemap(budget, path=['InOut', 'Category', 'Label'], values='Amount', color='Category', title='Budget Treemap').show()"
   ]
  },
  {
   "cell_type": "markdown",
   "metadata": {},
   "source": [
    "Clicking on the different parts of the visualizations will zoom in or out.\n",
    "\n",
    "Does this help show what's happening with finances each month? Which visualization do you prefer?"
   ]
  },
  {
   "cell_type": "markdown",
   "metadata": {},
   "source": [
    "[![Callysto.ca License](https://github.com/callysto/curriculum-notebooks/blob/master/callysto-notebook-banner-bottom.jpg?raw=true)](https://github.com/callysto/curriculum-notebooks/blob/master/LICENSE.md)"
   ]
  }
 ],
 "metadata": {
  "kernelspec": {
   "display_name": "Python 3",
   "language": "python",
   "name": "python3"
  },
  "language_info": {
   "codemirror_mode": {
    "name": "ipython",
    "version": 3
   },
   "file_extension": ".py",
   "mimetype": "text/x-python",
   "name": "python",
   "nbconvert_exporter": "python",
   "pygments_lexer": "ipython3",
   "version": "3.8.3"
  }
 },
 "nbformat": 4,
 "nbformat_minor": 4
}
