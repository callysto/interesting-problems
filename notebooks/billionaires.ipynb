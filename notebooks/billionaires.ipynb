{
 "cells": [
  {
   "cell_type": "markdown",
   "metadata": {},
   "source": [
    "![Callysto.ca Banner](https://github.com/callysto/curriculum-notebooks/blob/master/callysto-notebook-banner-top.jpg?raw=true)\n",
    "\n",
    "<a href=\"https://hub.callysto.ca/jupyter/hub/user-redirect/git-pull?repo=https%3A%2F%2Fgithub.com%2Fcallysto%2Finteresting-problems&branch=main&subPath=notebooks/billionaires.ipynb&depth=1\" target=\"_parent\"><img src=\"https://raw.githubusercontent.com/callysto/curriculum-notebooks/master/open-in-callysto-button.svg?sanitize=true\" width=\"123\" height=\"24\" alt=\"Open in Callysto\"/></a>"
   ]
  },
  {
   "cell_type": "markdown",
   "metadata": {},
   "source": [
    "# Billionaires\n",
    "\n",
    "To visualize some information about \"high-net-worth\" individuals and families, we can use data from the publication [Estimating The Top Tail Of The Family Wealth Distribution In Canada](https://www.pbo-dpb.ca/en/publications/RP-2021-007-S--estimating-top-tail-family-wealth-distribution-in-canada--estimation-queue-superieure-distribution-patrimoine-familial-au-canada).\n",
    "\n",
    "We'll start with some of the data available in the summary report. To see how wealth is distributed in Canada, click on the code cell below, then click the `▶Run` button."
   ]
  },
  {
   "cell_type": "code",
   "execution_count": null,
   "metadata": {},
   "outputs": [],
   "source": [
    "share_of_total_wealth = [5, 11.2, 19.5, 24.8, 43.5, 56.9, 73.9]\n",
    "top_percent = ['0.01', '0.1', '0.5', '1', '5', '10', '20']\n",
    "import plotly.express as px\n",
    "px.bar(x=top_percent, y=share_of_total_wealth, title='Family Net Wealth Distribution in Canada, 2019', labels={'x':'Top % of Wealth', 'y':'Share of Total Wealth'})\n"
   ]
  },
  {
   "cell_type": "markdown",
   "metadata": {},
   "source": [
    "We can also visualize how wealth is distributed using a pie chart. `▶Run` the code cell below."
   ]
  },
  {
   "cell_type": "code",
   "execution_count": null,
   "metadata": {},
   "outputs": [],
   "source": [
    "stw = [73.9, 25.1, 1.1]\n",
    "wealth_category = ['Top 20%', 'Middle 40%', 'Bottom 40%']\n",
    "px.pie(values=stw, names=wealth_category, title='Share of Total Wealth by Percentiles in Canada, 2019')"
   ]
  },
  {
   "cell_type": "markdown",
   "metadata": {},
   "source": [
    "We can also use data from a Wikipedia article called [List of Canadians by net worth](https://en.wikipedia.org/wiki/List_of_Canadians_by_net_worth) to look at individual and family billionaires."
   ]
  },
  {
   "cell_type": "code",
   "execution_count": null,
   "metadata": {},
   "outputs": [],
   "source": [
    "import pandas as pd\n",
    "try:\n",
    "    df = pd.read_html('https://en.wikipedia.org/wiki/List_of_Canadians_by_net_worth')[1]\n",
    "    df['Net worth'] = df['Net worth (USD)'].str.split('$').str[1].str.split('b').str[0].astype(float)*1000000000\n",
    "except:\n",
    "    df = pd.read_csv('billionaires.csv')\n",
    "px.bar(df, x='Net worth', y='Name', orientation='h', title='Net Worth of Billionaire Canadians', height=1500)"
   ]
  },
  {
   "cell_type": "markdown",
   "metadata": {},
   "source": [
    "The data also includes their source of wealth."
   ]
  },
  {
   "cell_type": "code",
   "execution_count": null,
   "metadata": {},
   "outputs": [],
   "source": [
    "px.histogram(df.sort_values(by='Source of wealth'), x='Source of wealth', title='Source of Wealth of Billionaire Canadians')"
   ]
  },
  {
   "cell_type": "markdown",
   "metadata": {},
   "source": [
    "Forbes maintains a list the wealthies people in America, including [self-made scores](https://www.forbes.com/sites/rachelsandler/2021/10/05/the-forbes-400-self-made-score-2021-from-silver-spooners-to-bootstrappers/). These scores are assigned from $1$ (inherited their fortune and hasn’t actively worked to increase it) to $10$ (born into poverty or lower-middle class). A score of $8$ means they are from an upper-middle or middle class family."
   ]
  },
  {
   "cell_type": "code",
   "execution_count": null,
   "metadata": {},
   "outputs": [],
   "source": [
    "members = [26, 21, 17, 27, 27, 13, 31, 160, 50, 28]\n",
    "px.bar(x=range(1,11), y=members, title='Self-Made Scores for Weathiest People in USA', labels={'x':'Category', 'y':'Number of Members'}).add_vline(x=7.5)"
   ]
  },
  {
   "cell_type": "markdown",
   "metadata": {},
   "source": [
    "Visualizing that as a pie chart."
   ]
  },
  {
   "cell_type": "code",
   "execution_count": null,
   "metadata": {},
   "outputs": [],
   "source": [
    "sum(members[:7])\n",
    "sum(members[7:])\n",
    "px.pie(values=[sum(members[:7]), sum(members[7:])], names=['Inherited','Self-Made'], title='Self-Made vs Inherited Wealth in USA')"
   ]
  },
  {
   "cell_type": "markdown",
   "metadata": {},
   "source": [
    "We can also look at [income tax data](https://www.propublica.org/article/the-secret-irs-files-trove-of-never-before-seen-records-reveal-how-the-wealthiest-avoid-income-tax) to see how the effective tax rates of the four wealthiest people in the USA compare to average people (2014 to 2018)."
   ]
  },
  {
   "cell_type": "code",
   "execution_count": null,
   "metadata": {},
   "outputs": [],
   "source": [
    "people = ['Warren Buffett', 'Jeff Bezos', 'Michael Bloomberg', 'Elon Musk', 'Median Household']\n",
    "tax_rates = [0.1, 0.98, 1.3, 3.27, 13.3]\n",
    "px.bar(x=people, y=tax_rates, title='Effective Tax Rates in USA', labels={'x':'Person', 'y':'Effective Tax Rate (%)'})"
   ]
  },
  {
   "cell_type": "markdown",
   "metadata": {},
   "source": [
    "# Conclusion\n",
    "\n",
    "In this notebook we visualized data about billionaires in Canada and the United States."
   ]
  },
  {
   "cell_type": "markdown",
   "metadata": {},
   "source": [
    "[![Callysto.ca License](https://github.com/callysto/curriculum-notebooks/blob/master/callysto-notebook-banner-bottom.jpg?raw=true)](https://github.com/callysto/curriculum-notebooks/blob/master/LICENSE.md)"
   ]
  }
 ],
 "metadata": {
  "kernelspec": {
   "display_name": "Python 3.10.4 64-bit",
   "language": "python",
   "name": "python3"
  },
  "language_info": {
   "codemirror_mode": {
    "name": "ipython",
    "version": 3
   },
   "file_extension": ".py",
   "mimetype": "text/x-python",
   "name": "python",
   "nbconvert_exporter": "python",
   "pygments_lexer": "ipython3",
   "version": "3.10.4"
  },
  "orig_nbformat": 4,
  "vscode": {
   "interpreter": {
    "hash": "aee8b7b246df8f9039afb4144a1f6fd8d2ca17a180786b69acc140d282b71a49"
   }
  }
 },
 "nbformat": 4,
 "nbformat_minor": 2
}
