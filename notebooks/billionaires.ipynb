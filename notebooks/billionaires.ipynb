{
 "cells": [
  {
   "cell_type": "markdown",
   "metadata": {},
   "source": []
  },
  {
   "cell_type": "markdown",
   "metadata": {},
   "source": [
    "# Billionaires\n",
    "\n",
    "To get some sense of how much money a billion dollars is, let's look at [twenty dollar bills](https://en.wikipedia.org/wiki/Canadian_twenty-dollar_note). Each one has a mass of 0.934 g, let's calculate the mass of one million dollars in twenties. Click on the code cell below, then click the `▶Run` button."
   ]
  },
  {
   "cell_type": "code",
   "execution_count": 5,
   "metadata": {},
   "outputs": [
    {
     "name": "stdout",
     "output_type": "stream",
     "text": [
      "A million dollars in twenties would be 46.7 kg.\n"
     ]
    }
   ],
   "source": [
    "grams = 0.934 * 1000000/20\n",
    "print('A million dollars in twenties would be {} kg.'.format(grams/1000))"
   ]
  },
  {
   "cell_type": "markdown",
   "metadata": {},
   "source": [
    "You might be able to lift a million dollars in twenties. A billion is a thousand million, though, which would have a mass of approximately twice the [maximum allowed mass of a semi-trailer](https://www.alberta.ca/assets/documents/trans-tractor-semi-trailer.pdf).\n",
    "\n"
   ]
  }
 ],
 "metadata": {
  "kernelspec": {
   "display_name": "Python 3.10.1 64-bit",
   "language": "python",
   "name": "python3"
  },
  "language_info": {
   "codemirror_mode": {
    "name": "ipython",
    "version": 3
   },
   "file_extension": ".py",
   "mimetype": "text/x-python",
   "name": "python",
   "nbconvert_exporter": "python",
   "pygments_lexer": "ipython3",
   "version": "3.10.1"
  },
  "orig_nbformat": 4,
  "vscode": {
   "interpreter": {
    "hash": "d1ca6d17674200220921376aaeb3d36cffe15ecab2470a9a5e7a456cdbf61425"
   }
  }
 },
 "nbformat": 4,
 "nbformat_minor": 2
}
