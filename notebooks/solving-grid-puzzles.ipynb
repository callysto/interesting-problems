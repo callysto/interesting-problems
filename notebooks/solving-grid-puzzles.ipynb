{
 "cells": [
  {
   "cell_type": "markdown",
   "metadata": {},
   "source": [
    "![Callysto.ca Banner](https://github.com/callysto/curriculum-notebooks/blob/master/callysto-notebook-banner-top.jpg?raw=true)\n",
    "\n",
    "<a href=\"https://hub.callysto.ca/jupyter/hub/user-redirect/git-pull?repo=https%3A%2F%2Fgithub.com%2Fcallysto%2Finteresting-problems&branch=main&subPath=notebooks/solving-grid-puzzles.ipynb&depth=1\" target=\"_parent\"><img src=\"https://raw.githubusercontent.com/callysto/curriculum-notebooks/master/open-in-callysto-button.svg?sanitize=true\" width=\"123\" height=\"24\" alt=\"Open in Callysto\"/></a>"
   ]
  },
  {
   "cell_type": "markdown",
   "metadata": {},
   "source": [
    "# Solving Grid Puzzles\n",
    "\n",
    "There are many different types of mathematical grid puzzles, we'll see if we can solve one of them using Python code. The puzzle is represented like this, where each letter is a unique single-digit integer between 1 and 9:\n",
    "\n",
    "```\n",
    "a - b + c = 6\n",
    "-   +   -\n",
    "d + e - f = 14\n",
    "+   -   +\n",
    "g - h + i = 5\n",
    "=   =   =\n",
    "9   10  4\n",
    "```\n",
    "\n",
    "We'll examine all the possible permutations and check which, if any, complete the puzzle.\n",
    "\n",
    "`►Run` the following code cell to do the calculations."
   ]
  },
  {
   "cell_type": "code",
   "execution_count": 6,
   "metadata": {},
   "outputs": [
    {
     "name": "stdout",
     "output_type": "stream",
     "text": [
      "8 5 3\n",
      "6 9 1\n",
      "7 4 2\n",
      "done\n"
     ]
    }
   ],
   "source": [
    "from itertools import permutations\n",
    "p = permutations([1,2,3,4,5,6,7,8,9])\n",
    "\n",
    "for n in list(p):\n",
    "    a, b, c, d, e, f, g, h, i = n  # assign this permutation to the variables\n",
    "\n",
    "    if a - b + c == 6:\n",
    "        if d + e - f == 14:\n",
    "            if g - h + i == 5:\n",
    "                if a - d + g == 9:\n",
    "                    if b + e - h == 10:\n",
    "                        if c - f + i == 4:\n",
    "                                print(a, b, c)\n",
    "                                print(d, e, f)\n",
    "                                print(g, h, i)\n",
    "print('done')"
   ]
  },
  {
   "cell_type": "markdown",
   "metadata": {},
   "source": [
    "## Challenge\n",
    "\n",
    "Based on the example above, try solving other math or logic puzzles using Python."
   ]
  },
  {
   "cell_type": "markdown",
   "metadata": {},
   "source": [
    "[![Callysto.ca License](https://github.com/callysto/curriculum-notebooks/blob/master/callysto-notebook-banner-bottom.jpg?raw=true)](https://github.com/callysto/curriculum-notebooks/blob/master/LICENSE.md)"
   ]
  }
 ],
 "metadata": {
  "kernelspec": {
   "display_name": "Python 3",
   "language": "python",
   "name": "python3"
  },
  "language_info": {
   "codemirror_mode": {
    "name": "ipython",
    "version": 3
   },
   "file_extension": ".py",
   "mimetype": "text/x-python",
   "name": "python",
   "nbconvert_exporter": "python",
   "pygments_lexer": "ipython3",
   "version": "3.10.1"
  }
 },
 "nbformat": 4,
 "nbformat_minor": 4
}
