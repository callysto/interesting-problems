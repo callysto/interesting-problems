{
 "cells": [
  {
   "cell_type": "markdown",
   "metadata": {},
   "source": [
    "\n",
    "\n",
    "This first cell will take a while to run, as it is a large dataset to download."
   ]
  },
  {
   "cell_type": "code",
   "execution_count": 1,
   "metadata": {},
   "outputs": [
    {
     "data": {
      "text/html": [
       "<div>\n",
       "<style scoped>\n",
       "    .dataframe tbody tr th:only-of-type {\n",
       "        vertical-align: middle;\n",
       "    }\n",
       "\n",
       "    .dataframe tbody tr th {\n",
       "        vertical-align: top;\n",
       "    }\n",
       "\n",
       "    .dataframe thead th {\n",
       "        text-align: right;\n",
       "    }\n",
       "</style>\n",
       "<table border=\"1\" class=\"dataframe\">\n",
       "  <thead>\n",
       "    <tr style=\"text-align: right;\">\n",
       "      <th></th>\n",
       "      <th>Course Name</th>\n",
       "      <th>Form</th>\n",
       "      <th>Authority Type</th>\n",
       "      <th>Authority Code</th>\n",
       "      <th>Authority Name</th>\n",
       "      <th>School Code</th>\n",
       "      <th>School Name</th>\n",
       "      <th>Language</th>\n",
       "      <th>2015 Sch Enrol</th>\n",
       "      <th>2015 Sch Writing</th>\n",
       "      <th>...</th>\n",
       "      <th>2019 Sch % Not Avail</th>\n",
       "      <th>2019 Sch % Acc of Writing</th>\n",
       "      <th>2019 Sch % Exc of Writing</th>\n",
       "      <th>2019 Sch % Below of Writing</th>\n",
       "      <th>2019 Sch Part 1 % Acc</th>\n",
       "      <th>2019 Sch Part 1 % Exc</th>\n",
       "      <th>2019 Sch Part 2 % Acc</th>\n",
       "      <th>2019 Sch Part 2 % Exc</th>\n",
       "      <th>2019 Sch Mean %</th>\n",
       "      <th>2019 Sch Std Dev %</th>\n",
       "    </tr>\n",
       "  </thead>\n",
       "  <tbody>\n",
       "    <tr>\n",
       "      <th>0</th>\n",
       "      <td>English Language Arts 6</td>\n",
       "      <td>1.0</td>\n",
       "      <td>Charter</td>\n",
       "      <td>9.0</td>\n",
       "      <td>Foundations for the Future Charter Academy Cha...</td>\n",
       "      <td>12.0</td>\n",
       "      <td>FFCA High School Campus</td>\n",
       "      <td>Written in English</td>\n",
       "      <td>NaN</td>\n",
       "      <td>NaN</td>\n",
       "      <td>...</td>\n",
       "      <td>NaN</td>\n",
       "      <td>NaN</td>\n",
       "      <td>NaN</td>\n",
       "      <td>NaN</td>\n",
       "      <td>NaN</td>\n",
       "      <td>NaN</td>\n",
       "      <td>NaN</td>\n",
       "      <td>NaN</td>\n",
       "      <td>NaN</td>\n",
       "      <td>NaN</td>\n",
       "    </tr>\n",
       "    <tr>\n",
       "      <th>1</th>\n",
       "      <td>Mathematics 6</td>\n",
       "      <td>1.0</td>\n",
       "      <td>Charter</td>\n",
       "      <td>9.0</td>\n",
       "      <td>Foundations for the Future Charter Academy Cha...</td>\n",
       "      <td>12.0</td>\n",
       "      <td>FFCA High School Campus</td>\n",
       "      <td>All Students Writing</td>\n",
       "      <td>NaN</td>\n",
       "      <td>NaN</td>\n",
       "      <td>...</td>\n",
       "      <td>NaN</td>\n",
       "      <td>NaN</td>\n",
       "      <td>NaN</td>\n",
       "      <td>NaN</td>\n",
       "      <td>NaN</td>\n",
       "      <td>NaN</td>\n",
       "      <td>NaN</td>\n",
       "      <td>NaN</td>\n",
       "      <td>NaN</td>\n",
       "      <td>NaN</td>\n",
       "    </tr>\n",
       "    <tr>\n",
       "      <th>2</th>\n",
       "      <td>Mathematics 6</td>\n",
       "      <td>1.0</td>\n",
       "      <td>Charter</td>\n",
       "      <td>9.0</td>\n",
       "      <td>Foundations for the Future Charter Academy Cha...</td>\n",
       "      <td>12.0</td>\n",
       "      <td>FFCA High School Campus</td>\n",
       "      <td>Written in English</td>\n",
       "      <td>NaN</td>\n",
       "      <td>NaN</td>\n",
       "      <td>...</td>\n",
       "      <td>NaN</td>\n",
       "      <td>NaN</td>\n",
       "      <td>NaN</td>\n",
       "      <td>NaN</td>\n",
       "      <td>NaN</td>\n",
       "      <td>NaN</td>\n",
       "      <td>NaN</td>\n",
       "      <td>NaN</td>\n",
       "      <td>NaN</td>\n",
       "      <td>NaN</td>\n",
       "    </tr>\n",
       "    <tr>\n",
       "      <th>3</th>\n",
       "      <td>Science 6</td>\n",
       "      <td>1.0</td>\n",
       "      <td>Charter</td>\n",
       "      <td>9.0</td>\n",
       "      <td>Foundations for the Future Charter Academy Cha...</td>\n",
       "      <td>12.0</td>\n",
       "      <td>FFCA High School Campus</td>\n",
       "      <td>All Students Writing</td>\n",
       "      <td>NaN</td>\n",
       "      <td>NaN</td>\n",
       "      <td>...</td>\n",
       "      <td>NaN</td>\n",
       "      <td>NaN</td>\n",
       "      <td>NaN</td>\n",
       "      <td>NaN</td>\n",
       "      <td>NaN</td>\n",
       "      <td>NaN</td>\n",
       "      <td>NaN</td>\n",
       "      <td>NaN</td>\n",
       "      <td>NaN</td>\n",
       "      <td>NaN</td>\n",
       "    </tr>\n",
       "    <tr>\n",
       "      <th>4</th>\n",
       "      <td>Science 6</td>\n",
       "      <td>1.0</td>\n",
       "      <td>Charter</td>\n",
       "      <td>9.0</td>\n",
       "      <td>Foundations for the Future Charter Academy Cha...</td>\n",
       "      <td>12.0</td>\n",
       "      <td>FFCA High School Campus</td>\n",
       "      <td>Written in English</td>\n",
       "      <td>NaN</td>\n",
       "      <td>NaN</td>\n",
       "      <td>...</td>\n",
       "      <td>NaN</td>\n",
       "      <td>NaN</td>\n",
       "      <td>NaN</td>\n",
       "      <td>NaN</td>\n",
       "      <td>NaN</td>\n",
       "      <td>NaN</td>\n",
       "      <td>NaN</td>\n",
       "      <td>NaN</td>\n",
       "      <td>NaN</td>\n",
       "      <td>NaN</td>\n",
       "    </tr>\n",
       "    <tr>\n",
       "      <th>...</th>\n",
       "      <td>...</td>\n",
       "      <td>...</td>\n",
       "      <td>...</td>\n",
       "      <td>...</td>\n",
       "      <td>...</td>\n",
       "      <td>...</td>\n",
       "      <td>...</td>\n",
       "      <td>...</td>\n",
       "      <td>...</td>\n",
       "      <td>...</td>\n",
       "      <td>...</td>\n",
       "      <td>...</td>\n",
       "      <td>...</td>\n",
       "      <td>...</td>\n",
       "      <td>...</td>\n",
       "      <td>...</td>\n",
       "      <td>...</td>\n",
       "      <td>...</td>\n",
       "      <td>...</td>\n",
       "      <td>...</td>\n",
       "      <td>...</td>\n",
       "    </tr>\n",
       "    <tr>\n",
       "      <th>23914</th>\n",
       "      <td>Social Studies 9</td>\n",
       "      <td>1.0</td>\n",
       "      <td>Private</td>\n",
       "      <td>9946.0</td>\n",
       "      <td>Trinity Christian School Association</td>\n",
       "      <td>9988.0</td>\n",
       "      <td>Trinity Christian School-Grand Centre</td>\n",
       "      <td>All Students Writing</td>\n",
       "      <td>NaN</td>\n",
       "      <td>NaN</td>\n",
       "      <td>...</td>\n",
       "      <td>NaN</td>\n",
       "      <td>NaN</td>\n",
       "      <td>NaN</td>\n",
       "      <td>NaN</td>\n",
       "      <td>NaN</td>\n",
       "      <td>NaN</td>\n",
       "      <td>NaN</td>\n",
       "      <td>NaN</td>\n",
       "      <td>NaN</td>\n",
       "      <td>NaN</td>\n",
       "    </tr>\n",
       "    <tr>\n",
       "      <th>23915</th>\n",
       "      <td>Social Studies 9</td>\n",
       "      <td>1.0</td>\n",
       "      <td>Private</td>\n",
       "      <td>9946.0</td>\n",
       "      <td>Trinity Christian School Association</td>\n",
       "      <td>9988.0</td>\n",
       "      <td>Trinity Christian School-Grand Centre</td>\n",
       "      <td>Written in English</td>\n",
       "      <td>NaN</td>\n",
       "      <td>NaN</td>\n",
       "      <td>...</td>\n",
       "      <td>NaN</td>\n",
       "      <td>NaN</td>\n",
       "      <td>NaN</td>\n",
       "      <td>NaN</td>\n",
       "      <td>NaN</td>\n",
       "      <td>NaN</td>\n",
       "      <td>NaN</td>\n",
       "      <td>NaN</td>\n",
       "      <td>NaN</td>\n",
       "      <td>NaN</td>\n",
       "    </tr>\n",
       "    <tr>\n",
       "      <th>23916</th>\n",
       "      <td>NaN</td>\n",
       "      <td>NaN</td>\n",
       "      <td>NaN</td>\n",
       "      <td>NaN</td>\n",
       "      <td>NaN</td>\n",
       "      <td>NaN</td>\n",
       "      <td>NaN</td>\n",
       "      <td>NaN</td>\n",
       "      <td>NaN</td>\n",
       "      <td>NaN</td>\n",
       "      <td>...</td>\n",
       "      <td>NaN</td>\n",
       "      <td>NaN</td>\n",
       "      <td>NaN</td>\n",
       "      <td>NaN</td>\n",
       "      <td>NaN</td>\n",
       "      <td>NaN</td>\n",
       "      <td>NaN</td>\n",
       "      <td>NaN</td>\n",
       "      <td>NaN</td>\n",
       "      <td>NaN</td>\n",
       "    </tr>\n",
       "    <tr>\n",
       "      <th>23917</th>\n",
       "      <td>NaN</td>\n",
       "      <td>NaN</td>\n",
       "      <td>NaN</td>\n",
       "      <td>NaN</td>\n",
       "      <td>NaN</td>\n",
       "      <td>NaN</td>\n",
       "      <td>NaN</td>\n",
       "      <td>NaN</td>\n",
       "      <td>NaN</td>\n",
       "      <td>NaN</td>\n",
       "      <td>...</td>\n",
       "      <td>NaN</td>\n",
       "      <td>NaN</td>\n",
       "      <td>NaN</td>\n",
       "      <td>NaN</td>\n",
       "      <td>NaN</td>\n",
       "      <td>NaN</td>\n",
       "      <td>NaN</td>\n",
       "      <td>NaN</td>\n",
       "      <td>NaN</td>\n",
       "      <td>NaN</td>\n",
       "    </tr>\n",
       "    <tr>\n",
       "      <th>23918</th>\n",
       "      <td>1. The 2015/2016 results do not include studen...</td>\n",
       "      <td>NaN</td>\n",
       "      <td>NaN</td>\n",
       "      <td>NaN</td>\n",
       "      <td>NaN</td>\n",
       "      <td>NaN</td>\n",
       "      <td>NaN</td>\n",
       "      <td>NaN</td>\n",
       "      <td>NaN</td>\n",
       "      <td>NaN</td>\n",
       "      <td>...</td>\n",
       "      <td>NaN</td>\n",
       "      <td>NaN</td>\n",
       "      <td>NaN</td>\n",
       "      <td>NaN</td>\n",
       "      <td>NaN</td>\n",
       "      <td>NaN</td>\n",
       "      <td>NaN</td>\n",
       "      <td>NaN</td>\n",
       "      <td>NaN</td>\n",
       "      <td>NaN</td>\n",
       "    </tr>\n",
       "  </tbody>\n",
       "</table>\n",
       "<p>23919 rows × 148 columns</p>\n",
       "</div>"
      ],
      "text/plain": [
       "                                             Course Name  Form Authority Type  \\\n",
       "0                                English Language Arts 6   1.0        Charter   \n",
       "1                                          Mathematics 6   1.0        Charter   \n",
       "2                                          Mathematics 6   1.0        Charter   \n",
       "3                                              Science 6   1.0        Charter   \n",
       "4                                              Science 6   1.0        Charter   \n",
       "...                                                  ...   ...            ...   \n",
       "23914                                   Social Studies 9   1.0        Private   \n",
       "23915                                   Social Studies 9   1.0        Private   \n",
       "23916                                                NaN   NaN            NaN   \n",
       "23917                                                NaN   NaN            NaN   \n",
       "23918  1. The 2015/2016 results do not include studen...   NaN            NaN   \n",
       "\n",
       "       Authority Code                                     Authority Name  \\\n",
       "0                 9.0  Foundations for the Future Charter Academy Cha...   \n",
       "1                 9.0  Foundations for the Future Charter Academy Cha...   \n",
       "2                 9.0  Foundations for the Future Charter Academy Cha...   \n",
       "3                 9.0  Foundations for the Future Charter Academy Cha...   \n",
       "4                 9.0  Foundations for the Future Charter Academy Cha...   \n",
       "...               ...                                                ...   \n",
       "23914          9946.0               Trinity Christian School Association   \n",
       "23915          9946.0               Trinity Christian School Association   \n",
       "23916             NaN                                                NaN   \n",
       "23917             NaN                                                NaN   \n",
       "23918             NaN                                                NaN   \n",
       "\n",
       "       School Code                            School Name  \\\n",
       "0             12.0                FFCA High School Campus   \n",
       "1             12.0                FFCA High School Campus   \n",
       "2             12.0                FFCA High School Campus   \n",
       "3             12.0                FFCA High School Campus   \n",
       "4             12.0                FFCA High School Campus   \n",
       "...            ...                                    ...   \n",
       "23914       9988.0  Trinity Christian School-Grand Centre   \n",
       "23915       9988.0  Trinity Christian School-Grand Centre   \n",
       "23916          NaN                                    NaN   \n",
       "23917          NaN                                    NaN   \n",
       "23918          NaN                                    NaN   \n",
       "\n",
       "                   Language  2015 Sch Enrol  2015 Sch Writing  ...  \\\n",
       "0        Written in English             NaN               NaN  ...   \n",
       "1      All Students Writing             NaN               NaN  ...   \n",
       "2        Written in English             NaN               NaN  ...   \n",
       "3      All Students Writing             NaN               NaN  ...   \n",
       "4        Written in English             NaN               NaN  ...   \n",
       "...                     ...             ...               ...  ...   \n",
       "23914  All Students Writing             NaN               NaN  ...   \n",
       "23915    Written in English             NaN               NaN  ...   \n",
       "23916                   NaN             NaN               NaN  ...   \n",
       "23917                   NaN             NaN               NaN  ...   \n",
       "23918                   NaN             NaN               NaN  ...   \n",
       "\n",
       "       2019 Sch % Not Avail  2019 Sch % Acc of Writing  \\\n",
       "0                       NaN                        NaN   \n",
       "1                       NaN                        NaN   \n",
       "2                       NaN                        NaN   \n",
       "3                       NaN                        NaN   \n",
       "4                       NaN                        NaN   \n",
       "...                     ...                        ...   \n",
       "23914                   NaN                        NaN   \n",
       "23915                   NaN                        NaN   \n",
       "23916                   NaN                        NaN   \n",
       "23917                   NaN                        NaN   \n",
       "23918                   NaN                        NaN   \n",
       "\n",
       "       2019 Sch % Exc of Writing  2019 Sch % Below of Writing  \\\n",
       "0                            NaN                          NaN   \n",
       "1                            NaN                          NaN   \n",
       "2                            NaN                          NaN   \n",
       "3                            NaN                          NaN   \n",
       "4                            NaN                          NaN   \n",
       "...                          ...                          ...   \n",
       "23914                        NaN                          NaN   \n",
       "23915                        NaN                          NaN   \n",
       "23916                        NaN                          NaN   \n",
       "23917                        NaN                          NaN   \n",
       "23918                        NaN                          NaN   \n",
       "\n",
       "       2019 Sch Part 1 % Acc  2019 Sch Part 1 % Exc  2019 Sch Part 2 % Acc  \\\n",
       "0                        NaN                    NaN                    NaN   \n",
       "1                        NaN                    NaN                    NaN   \n",
       "2                        NaN                    NaN                    NaN   \n",
       "3                        NaN                    NaN                    NaN   \n",
       "4                        NaN                    NaN                    NaN   \n",
       "...                      ...                    ...                    ...   \n",
       "23914                    NaN                    NaN                    NaN   \n",
       "23915                    NaN                    NaN                    NaN   \n",
       "23916                    NaN                    NaN                    NaN   \n",
       "23917                    NaN                    NaN                    NaN   \n",
       "23918                    NaN                    NaN                    NaN   \n",
       "\n",
       "       2019 Sch Part 2 % Exc  2019 Sch Mean %  2019 Sch Std Dev %  \n",
       "0                        NaN              NaN                 NaN  \n",
       "1                        NaN              NaN                 NaN  \n",
       "2                        NaN              NaN                 NaN  \n",
       "3                        NaN              NaN                 NaN  \n",
       "4                        NaN              NaN                 NaN  \n",
       "...                      ...              ...                 ...  \n",
       "23914                    NaN              NaN                 NaN  \n",
       "23915                    NaN              NaN                 NaN  \n",
       "23916                    NaN              NaN                 NaN  \n",
       "23917                    NaN              NaN                 NaN  \n",
       "23918                    NaN              NaN                 NaN  \n",
       "\n",
       "[23919 rows x 148 columns]"
      ]
     },
     "execution_count": 1,
     "metadata": {},
     "output_type": "execute_result"
    }
   ],
   "source": [
    "pat_url = 'https://www.alberta.ca/assets/documents/ed-pat-multiyear-sch-list.xlsx'\n",
    "\n",
    "import requests\n",
    "import pandas as pd\n",
    "import plotly.express as px\n",
    "r = requests.get(pat_url)\n",
    "data = pd.read_excel(r.content) #, engine='openpyxl'\n",
    "data"
   ]
  },
  {
   "cell_type": "code",
   "execution_count": 2,
   "metadata": {},
   "outputs": [
    {
     "name": "stdout",
     "output_type": "stream",
     "text": [
      "Charter\n",
      "Private\n",
      "Separate\n",
      "Public\n",
      "Francophone\n",
      "Provincial\n",
      "nan\n"
     ]
    }
   ],
   "source": [
    "for authority_type in data['Authority Type'].unique():\n",
    "    print(authority_type)"
   ]
  },
  {
   "cell_type": "code",
   "execution_count": 3,
   "metadata": {},
   "outputs": [
    {
     "name": "stdout",
     "output_type": "stream",
     "text": [
      "The Clearview School Division\n",
      "The Chinook's Edge School Division\n",
      "The Wolf Creek School Division\n",
      "The Westwind School Division\n",
      "The Peace Wapiti School Division\n",
      "The Prairie Rose School Division\n",
      "The Horizon School Division\n",
      "The Peace River School Division\n",
      "The Grande Yellowhead School Division\n",
      "The Sturgeon School Division \n",
      "The Prairie Land School Division\n",
      "The Livingstone Range School Division\n",
      "The Buffalo Trail School Division\n",
      "The Pembina Hills School Division\n",
      "The Foothills School Division\n",
      "The Rocky View School Division\n",
      "The High Prairie School Division\n",
      "The Northern Lights School Division\n",
      "The Fort Vermilion School Division\n",
      "The Northland School Division\n",
      "The Wild Rose School Division \n",
      "The Grasslands School Division\n",
      "The Wetaskiwin School Division\n",
      "The Aspen View School Division\n",
      "The Golden Hills School Division\n",
      "The St. Paul School Division\n",
      "The Elk Island School Division\n",
      "The Black Gold School Division \n",
      "The Palliser School Division\n",
      "The Northern Gateway School Division\n",
      "The Battle River School Division \n",
      "The Parkland School Division\n",
      "The Edmonton School Division\n",
      "The Calgary School Division\n",
      "The Lethbridge School Division\n",
      "The Medicine Hat School Division\n",
      "The Canadian Rockies School Division\n",
      "The Red Deer School Division \n",
      "The Grande Prairie School Division\n",
      "The Fort McMurray School Division\n",
      "The St. Albert School Division\n"
     ]
    }
   ],
   "source": [
    "authority_type = 'Public'\n",
    "for a in data[data['Authority Type']==authority_type]['Authority Name'].unique():\n",
    "    print(a)"
   ]
  },
  {
   "cell_type": "code",
   "execution_count": 4,
   "metadata": {},
   "outputs": [
    {
     "name": "stdout",
     "output_type": "stream",
     "text": [
      "Lakeland Ridge School\n",
      "EIPS Home Education\n",
      "EIPS Centre for Educational Alternatives\n",
      "Strathcona Christian Academy Elementary School\n",
      "Elk Island Youth Ranch Learning Centre\n",
      "Rudolph Hennig Junior High School\n",
      "Ecole Parc Elementaire\n",
      "SouthPointe School\n",
      "Davidson Creek Elementary School\n",
      "Ardrossan Junior Senior High School\n",
      "Ecole Ardrossan Elementary School\n",
      "Uncas Elementary School\n",
      "Sherwood Park Next Step I Outreach School\n",
      "Fort Saskatchewan Elementary School\n",
      "Win Ferguson Community School\n",
      "Ministik School\n",
      "F. R. Haythorne School\n",
      "Sherwood Heights Junior High School\n",
      "Brentwood School\n",
      "Ecole Campbelltown School\n",
      "Pine Street School\n",
      "Westboro Elementary School\n",
      "Mills Haven Elementary School\n",
      "Clover Bar Junior High School\n",
      "Wye School\n",
      "Castle School\n",
      "Glen Allan Elementary School\n",
      "Wes Hosford School\n",
      "Fultonvale Elementary Junior High School\n",
      "Woodbridge Farms School\n",
      "James Mowat School\n",
      "Strathcona Christian Academy\n",
      "Fort Saskatchewan Christian School\n",
      "Andrew School\n",
      "Lamont High School\n",
      "Lamont Elementary School\n",
      "Mundare School\n",
      "Bruderheim Community School\n",
      "Vegreville Composite High School\n",
      "A. L. Horton Elementary School\n",
      "Pleasant Ridge Colony School\n"
     ]
    }
   ],
   "source": [
    "authority = 'The Elk Island School Division'\n",
    "for school in data[data['Authority Name']==authority]['School Name'].unique():\n",
    "    print(school)"
   ]
  },
  {
   "cell_type": "code",
   "execution_count": 5,
   "metadata": {},
   "outputs": [
    {
     "data": {
      "text/html": [
       "<div>\n",
       "<style scoped>\n",
       "    .dataframe tbody tr th:only-of-type {\n",
       "        vertical-align: middle;\n",
       "    }\n",
       "\n",
       "    .dataframe tbody tr th {\n",
       "        vertical-align: top;\n",
       "    }\n",
       "\n",
       "    .dataframe thead th {\n",
       "        text-align: right;\n",
       "    }\n",
       "</style>\n",
       "<table border=\"1\" class=\"dataframe\">\n",
       "  <thead>\n",
       "    <tr style=\"text-align: right;\">\n",
       "      <th></th>\n",
       "      <th>Course Name</th>\n",
       "      <th>Form</th>\n",
       "      <th>Authority Type</th>\n",
       "      <th>Authority Code</th>\n",
       "      <th>Authority Name</th>\n",
       "      <th>School Code</th>\n",
       "      <th>School Name</th>\n",
       "      <th>Language</th>\n",
       "      <th>2015 Sch Enrol</th>\n",
       "      <th>2015 Sch Writing</th>\n",
       "      <th>...</th>\n",
       "      <th>2019 Sch % Not Avail</th>\n",
       "      <th>2019 Sch % Acc of Writing</th>\n",
       "      <th>2019 Sch % Exc of Writing</th>\n",
       "      <th>2019 Sch % Below of Writing</th>\n",
       "      <th>2019 Sch Part 1 % Acc</th>\n",
       "      <th>2019 Sch Part 1 % Exc</th>\n",
       "      <th>2019 Sch Part 2 % Acc</th>\n",
       "      <th>2019 Sch Part 2 % Exc</th>\n",
       "      <th>2019 Sch Mean %</th>\n",
       "      <th>2019 Sch Std Dev %</th>\n",
       "    </tr>\n",
       "  </thead>\n",
       "  <tbody>\n",
       "    <tr>\n",
       "      <th>11788</th>\n",
       "      <td>English Language Arts 6</td>\n",
       "      <td>1.0</td>\n",
       "      <td>Public</td>\n",
       "      <td>2195.0</td>\n",
       "      <td>The Elk Island School Division</td>\n",
       "      <td>3328.0</td>\n",
       "      <td>Westboro Elementary School</td>\n",
       "      <td>Written in English</td>\n",
       "      <td>51.0</td>\n",
       "      <td>50.0</td>\n",
       "      <td>...</td>\n",
       "      <td>14.5</td>\n",
       "      <td>97.9</td>\n",
       "      <td>25.5</td>\n",
       "      <td>2.1</td>\n",
       "      <td>95.7</td>\n",
       "      <td>14.9</td>\n",
       "      <td>93.6</td>\n",
       "      <td>42.6</td>\n",
       "      <td>69.6</td>\n",
       "      <td>13.3</td>\n",
       "    </tr>\n",
       "    <tr>\n",
       "      <th>11789</th>\n",
       "      <td>Mathematics 6</td>\n",
       "      <td>1.0</td>\n",
       "      <td>Public</td>\n",
       "      <td>2195.0</td>\n",
       "      <td>The Elk Island School Division</td>\n",
       "      <td>3328.0</td>\n",
       "      <td>Westboro Elementary School</td>\n",
       "      <td>All Students Writing</td>\n",
       "      <td>51.0</td>\n",
       "      <td>49.0</td>\n",
       "      <td>...</td>\n",
       "      <td>14.5</td>\n",
       "      <td>80.9</td>\n",
       "      <td>25.5</td>\n",
       "      <td>19.1</td>\n",
       "      <td>68.1</td>\n",
       "      <td>53.2</td>\n",
       "      <td>83.0</td>\n",
       "      <td>25.5</td>\n",
       "      <td>67.4</td>\n",
       "      <td>21.0</td>\n",
       "    </tr>\n",
       "    <tr>\n",
       "      <th>11790</th>\n",
       "      <td>Mathematics 6</td>\n",
       "      <td>1.0</td>\n",
       "      <td>Public</td>\n",
       "      <td>2195.0</td>\n",
       "      <td>The Elk Island School Division</td>\n",
       "      <td>3328.0</td>\n",
       "      <td>Westboro Elementary School</td>\n",
       "      <td>Written in English</td>\n",
       "      <td>51.0</td>\n",
       "      <td>49.0</td>\n",
       "      <td>...</td>\n",
       "      <td>14.5</td>\n",
       "      <td>80.9</td>\n",
       "      <td>25.5</td>\n",
       "      <td>19.1</td>\n",
       "      <td>68.1</td>\n",
       "      <td>53.2</td>\n",
       "      <td>83.0</td>\n",
       "      <td>25.5</td>\n",
       "      <td>67.4</td>\n",
       "      <td>21.0</td>\n",
       "    </tr>\n",
       "    <tr>\n",
       "      <th>11791</th>\n",
       "      <td>Science 6</td>\n",
       "      <td>1.0</td>\n",
       "      <td>Public</td>\n",
       "      <td>2195.0</td>\n",
       "      <td>The Elk Island School Division</td>\n",
       "      <td>3328.0</td>\n",
       "      <td>Westboro Elementary School</td>\n",
       "      <td>All Students Writing</td>\n",
       "      <td>51.0</td>\n",
       "      <td>49.0</td>\n",
       "      <td>...</td>\n",
       "      <td>14.5</td>\n",
       "      <td>89.4</td>\n",
       "      <td>44.7</td>\n",
       "      <td>10.6</td>\n",
       "      <td>91.5</td>\n",
       "      <td>44.7</td>\n",
       "      <td>89.4</td>\n",
       "      <td>42.6</td>\n",
       "      <td>72.2</td>\n",
       "      <td>18.7</td>\n",
       "    </tr>\n",
       "    <tr>\n",
       "      <th>11792</th>\n",
       "      <td>Science 6</td>\n",
       "      <td>1.0</td>\n",
       "      <td>Public</td>\n",
       "      <td>2195.0</td>\n",
       "      <td>The Elk Island School Division</td>\n",
       "      <td>3328.0</td>\n",
       "      <td>Westboro Elementary School</td>\n",
       "      <td>Written in English</td>\n",
       "      <td>51.0</td>\n",
       "      <td>49.0</td>\n",
       "      <td>...</td>\n",
       "      <td>14.5</td>\n",
       "      <td>89.4</td>\n",
       "      <td>44.7</td>\n",
       "      <td>10.6</td>\n",
       "      <td>91.5</td>\n",
       "      <td>44.7</td>\n",
       "      <td>89.4</td>\n",
       "      <td>42.6</td>\n",
       "      <td>72.2</td>\n",
       "      <td>18.7</td>\n",
       "    </tr>\n",
       "    <tr>\n",
       "      <th>11793</th>\n",
       "      <td>Social Studies 6</td>\n",
       "      <td>1.0</td>\n",
       "      <td>Public</td>\n",
       "      <td>2195.0</td>\n",
       "      <td>The Elk Island School Division</td>\n",
       "      <td>3328.0</td>\n",
       "      <td>Westboro Elementary School</td>\n",
       "      <td>All Students Writing</td>\n",
       "      <td>51.0</td>\n",
       "      <td>48.0</td>\n",
       "      <td>...</td>\n",
       "      <td>14.5</td>\n",
       "      <td>83.0</td>\n",
       "      <td>31.9</td>\n",
       "      <td>17.0</td>\n",
       "      <td>NaN</td>\n",
       "      <td>NaN</td>\n",
       "      <td>NaN</td>\n",
       "      <td>NaN</td>\n",
       "      <td>69.6</td>\n",
       "      <td>19.6</td>\n",
       "    </tr>\n",
       "    <tr>\n",
       "      <th>11794</th>\n",
       "      <td>Social Studies 6</td>\n",
       "      <td>1.0</td>\n",
       "      <td>Public</td>\n",
       "      <td>2195.0</td>\n",
       "      <td>The Elk Island School Division</td>\n",
       "      <td>3328.0</td>\n",
       "      <td>Westboro Elementary School</td>\n",
       "      <td>Written in English</td>\n",
       "      <td>51.0</td>\n",
       "      <td>48.0</td>\n",
       "      <td>...</td>\n",
       "      <td>14.5</td>\n",
       "      <td>83.0</td>\n",
       "      <td>31.9</td>\n",
       "      <td>17.0</td>\n",
       "      <td>NaN</td>\n",
       "      <td>NaN</td>\n",
       "      <td>NaN</td>\n",
       "      <td>NaN</td>\n",
       "      <td>69.6</td>\n",
       "      <td>19.6</td>\n",
       "    </tr>\n",
       "  </tbody>\n",
       "</table>\n",
       "<p>7 rows × 148 columns</p>\n",
       "</div>"
      ],
      "text/plain": [
       "                   Course Name  Form Authority Type  Authority Code  \\\n",
       "11788  English Language Arts 6   1.0         Public          2195.0   \n",
       "11789            Mathematics 6   1.0         Public          2195.0   \n",
       "11790            Mathematics 6   1.0         Public          2195.0   \n",
       "11791                Science 6   1.0         Public          2195.0   \n",
       "11792                Science 6   1.0         Public          2195.0   \n",
       "11793         Social Studies 6   1.0         Public          2195.0   \n",
       "11794         Social Studies 6   1.0         Public          2195.0   \n",
       "\n",
       "                       Authority Name  School Code  \\\n",
       "11788  The Elk Island School Division       3328.0   \n",
       "11789  The Elk Island School Division       3328.0   \n",
       "11790  The Elk Island School Division       3328.0   \n",
       "11791  The Elk Island School Division       3328.0   \n",
       "11792  The Elk Island School Division       3328.0   \n",
       "11793  The Elk Island School Division       3328.0   \n",
       "11794  The Elk Island School Division       3328.0   \n",
       "\n",
       "                      School Name              Language  2015 Sch Enrol  \\\n",
       "11788  Westboro Elementary School    Written in English            51.0   \n",
       "11789  Westboro Elementary School  All Students Writing            51.0   \n",
       "11790  Westboro Elementary School    Written in English            51.0   \n",
       "11791  Westboro Elementary School  All Students Writing            51.0   \n",
       "11792  Westboro Elementary School    Written in English            51.0   \n",
       "11793  Westboro Elementary School  All Students Writing            51.0   \n",
       "11794  Westboro Elementary School    Written in English            51.0   \n",
       "\n",
       "       2015 Sch Writing  ...  2019 Sch % Not Avail  2019 Sch % Acc of Writing  \\\n",
       "11788              50.0  ...                  14.5                       97.9   \n",
       "11789              49.0  ...                  14.5                       80.9   \n",
       "11790              49.0  ...                  14.5                       80.9   \n",
       "11791              49.0  ...                  14.5                       89.4   \n",
       "11792              49.0  ...                  14.5                       89.4   \n",
       "11793              48.0  ...                  14.5                       83.0   \n",
       "11794              48.0  ...                  14.5                       83.0   \n",
       "\n",
       "       2019 Sch % Exc of Writing  2019 Sch % Below of Writing  \\\n",
       "11788                       25.5                          2.1   \n",
       "11789                       25.5                         19.1   \n",
       "11790                       25.5                         19.1   \n",
       "11791                       44.7                         10.6   \n",
       "11792                       44.7                         10.6   \n",
       "11793                       31.9                         17.0   \n",
       "11794                       31.9                         17.0   \n",
       "\n",
       "       2019 Sch Part 1 % Acc  2019 Sch Part 1 % Exc  2019 Sch Part 2 % Acc  \\\n",
       "11788                   95.7                   14.9                   93.6   \n",
       "11789                   68.1                   53.2                   83.0   \n",
       "11790                   68.1                   53.2                   83.0   \n",
       "11791                   91.5                   44.7                   89.4   \n",
       "11792                   91.5                   44.7                   89.4   \n",
       "11793                    NaN                    NaN                    NaN   \n",
       "11794                    NaN                    NaN                    NaN   \n",
       "\n",
       "       2019 Sch Part 2 % Exc  2019 Sch Mean %  2019 Sch Std Dev %  \n",
       "11788                   42.6             69.6                13.3  \n",
       "11789                   25.5             67.4                21.0  \n",
       "11790                   25.5             67.4                21.0  \n",
       "11791                   42.6             72.2                18.7  \n",
       "11792                   42.6             72.2                18.7  \n",
       "11793                    NaN             69.6                19.6  \n",
       "11794                    NaN             69.6                19.6  \n",
       "\n",
       "[7 rows x 148 columns]"
      ]
     },
     "execution_count": 5,
     "metadata": {},
     "output_type": "execute_result"
    }
   ],
   "source": [
    "school = 'Westboro Elementary School'\n",
    "sd = data[data['School Name']==school]\n",
    "sd"
   ]
  },
  {
   "cell_type": "code",
   "execution_count": 6,
   "metadata": {},
   "outputs": [
    {
     "name": "stdout",
     "output_type": "stream",
     "text": [
      "Course Name\n",
      "Form\n",
      "Authority Type\n",
      "Authority Code\n",
      "Authority Name\n",
      "School Code\n",
      "School Name\n",
      "Language\n",
      "2015 Sch Enrol\n",
      "2015 Sch Writing\n",
      "2015 Sch Absent\n",
      "2015 Sch Excused\n",
      "2015 Sch Acc\n",
      "2015 Sch Exc\n",
      "2015 Sch Below\n",
      "2015 Sch Not Avail\n",
      "2015 Sch Part 1 Acc\n",
      "2015 Sch Part 1 Exc\n",
      "2015 Sch Part 2 Acc\n",
      "2015 Sch Part 2 Exc\n",
      "2015 Sch % Writing\n",
      "2015 Sch % Absent\n",
      "2015 Sch % Excused\n",
      "2015 Sch % Acc of Enrol\n",
      "2015 Sch % Exc of Enrol\n",
      "2015 Sch % Below of Enrol\n",
      "2015 Sch % Not Avail\n",
      "2015 Sch % Acc of Writing\n",
      "2015 Sch % Exc of Writing\n",
      "2015 Sch Below of Writing\n",
      "2015 Sch Part 1 % Acc\n",
      "2015 Sch Part 1 % Exc\n",
      "2015 Sch Part 2 % Acc\n",
      "2015 Sch Part 2 % Exc\n",
      "2015 Sch Mean %\n",
      "2015 Sch Std Dev %\n",
      "2016 Sch Enrol\n",
      "2016 Sch Writing\n",
      "2016 Sch Absent\n",
      "2016 Sch Excused\n",
      "2016 Sch Acc\n",
      "2016 Sch Exc\n",
      "2016 Sch Below\n",
      "2016 Sch Not Avail\n",
      "2016 Sch Part 1 Acc\n",
      "2016 Sch Part 1 Exc\n",
      "2016 Sch Part 2 Acc\n",
      "2016 Sch Part 2 Exc\n",
      "2016 Sch % Writing\n",
      "2016 Sch % Absent\n",
      "2016 Sch % Excused\n",
      "2016 Sch % Acc of Enrol\n",
      "2016 Sch % Exc of Enrol\n",
      "2016 Sch % Below of Enrol\n",
      "2016 Sch % Not Avail\n",
      "2016 Sch % Acc of Writing\n",
      "2016 Sch % Exc of Writing\n",
      "2016 Sch % Below of Writing\n",
      "2016 Sch Part 1 % Acc\n",
      "2016 Sch Part 1 % Exc\n",
      "2016 Sch Part 2 % Acc\n",
      "2016 Sch Part 2 % Exc\n",
      "2016 Sch Mean %\n",
      "2016 Sch Std Dev %\n",
      "2017 Sch Enrol\n",
      "2017 Sch Writing\n",
      "2017 Sch Absent\n",
      "2017 Sch Excused\n",
      "2017 Sch Acc\n",
      "2017 Sch Exc\n",
      "2017 Sch Below\n",
      "2017 Sch Not Avail\n",
      "2017 Sch Part 1 Acc\n",
      "2017 Sch Part 1 Exc\n",
      "2017 Sch Part 2 Acc\n",
      "2017 Sch Part 2 Exc\n",
      "2017 Sch % Writing\n",
      "2017 Sch % Absent\n",
      "2017 Sch % Excused\n",
      "2017 Sch % Acc of Enrol\n",
      "2017 Sch % Exc of Enrol\n",
      "2017 Sch % Below of Enrol\n",
      "2017 Sch % Not Avail\n",
      "2017 Sch % Acc of Writing\n",
      "2017 Sch % Exc of Writing\n",
      "2017 Sch % Below of Writing\n",
      "2017 Sch Part 1 % Acc\n",
      "2017 Sch Part 1 % Exc\n",
      "2017 Sch Part 2 % Acc\n",
      "2017 Sch Part 2 % Exc\n",
      "2017 Sch Mean %\n",
      "2017 Sch Std Dev %\n",
      "2018 Sch Enrol\n",
      "2018 Sch Writing\n",
      "2018 Sch Absent\n",
      "2018 Sch Excused\n",
      "2018 Sch Acc\n",
      "2018 Sch Exc\n",
      "2018 Sch Below\n",
      "2018 Sch Not Avail\n",
      "2018 Sch Part 1 Acc\n",
      "2018 Sch Part 1 Exc\n",
      "2018 Sch Part 2 Acc\n",
      "2018 Sch Part 2 Exc\n",
      "2018 Sch % Writing\n",
      "2018 Sch % Absent\n",
      "2018 Sch % Excused\n",
      "2018 Sch % Acc of Enrol\n",
      "2018 Sch % Exc of Enrol\n",
      "2018 Sch % Below of Enrol\n",
      "2018 Sch % Not Avail\n",
      "2018 Sch % Acc of Writing\n",
      "2018 Sch % Exc of Writing\n",
      "2018 Sch % Below of Writing\n",
      "2018 Sch Part 1 % Acc\n",
      "2018 Sch Part 1 % Exc\n",
      "2018 Sch Part 2 % Acc\n",
      "2018 Sch Part 2 % Exc\n",
      "2018 Sch Mean %\n",
      "2018 Sch Std Dev %\n",
      "2019 Sch Enrol\n",
      "2019 Sch Writing\n",
      "2019 Sch Absent\n",
      "2019 Sch Excused\n",
      "2019 Sch Acc\n",
      "2019 Sch Exc\n",
      "2019 Sch Below\n",
      "2019 Sch Not Avail\n",
      "2019 Sch Part 1 Acc\n",
      "2019 Sch Part 1 Exc\n",
      "2019 Sch Part 2 Acc\n",
      "2019 Sch Part 2 Exc\n",
      "2019 Sch % Writing\n",
      "2019 Sch % Absent\n",
      "2019 Sch % Excused\n",
      "2019 Sch % Acc of Enrol\n",
      "2019 Sch % Exc of Enrol\n",
      "2019 Sch % Below of Enrol\n",
      "2019 Sch % Not Avail\n",
      "2019 Sch % Acc of Writing\n",
      "2019 Sch % Exc of Writing\n",
      "2019 Sch % Below of Writing\n",
      "2019 Sch Part 1 % Acc\n",
      "2019 Sch Part 1 % Exc\n",
      "2019 Sch Part 2 % Acc\n",
      "2019 Sch Part 2 % Exc\n",
      "2019 Sch Mean %\n",
      "2019 Sch Std Dev %\n"
     ]
    }
   ],
   "source": [
    "for column in sd.columns:\n",
    "    print(column)"
   ]
  },
  {
   "cell_type": "code",
   "execution_count": 7,
   "metadata": {},
   "outputs": [
    {
     "data": {
      "text/plain": [
       "['2015', '2016', '2017', '2018', '2019']"
      ]
     },
     "execution_count": 7,
     "metadata": {},
     "output_type": "execute_result"
    }
   ],
   "source": [
    "years = []\n",
    "for column in sd.columns:\n",
    "    if column[0] == '2':\n",
    "        year = column[0:4]\n",
    "        if year not in years:\n",
    "            years.append(year)\n",
    "years"
   ]
  },
  {
   "cell_type": "code",
   "execution_count": 8,
   "metadata": {},
   "outputs": [
    {
     "data": {
      "text/plain": [
       "['Sch Enrol',\n",
       " 'Sch Writing',\n",
       " 'Sch Absent',\n",
       " 'Sch Excused',\n",
       " 'Sch Acc',\n",
       " 'Sch Exc',\n",
       " 'Sch Below',\n",
       " 'Sch Not Avail',\n",
       " 'Sch Part 1 Acc',\n",
       " 'Sch Part 1 Exc',\n",
       " 'Sch Part 2 Acc',\n",
       " 'Sch Part 2 Exc',\n",
       " 'Sch % Writing',\n",
       " 'Sch % Absent',\n",
       " 'Sch % Excused',\n",
       " 'Sch % Acc of Enrol',\n",
       " 'Sch % Exc of Enrol',\n",
       " 'Sch % Below of Enrol',\n",
       " 'Sch % Not Avail',\n",
       " 'Sch % Acc of Writing',\n",
       " 'Sch % Exc of Writing',\n",
       " 'Sch Below of Writing',\n",
       " 'Sch Part 1 % Acc',\n",
       " 'Sch Part 1 % Exc',\n",
       " 'Sch Part 2 % Acc',\n",
       " 'Sch Part 2 % Exc',\n",
       " 'Sch Mean %',\n",
       " 'Sch Std Dev %']"
      ]
     },
     "execution_count": 8,
     "metadata": {},
     "output_type": "execute_result"
    }
   ],
   "source": [
    "results_columns = []\n",
    "for column in sd.columns:\n",
    "    if column[0:4] == years[0]:\n",
    "        results_columns.append(column[5:])\n",
    "results_columns"
   ]
  },
  {
   "cell_type": "code",
   "execution_count": 13,
   "metadata": {},
   "outputs": [
    {
     "data": {
      "text/html": [
       "<div>\n",
       "<style scoped>\n",
       "    .dataframe tbody tr th:only-of-type {\n",
       "        vertical-align: middle;\n",
       "    }\n",
       "\n",
       "    .dataframe tbody tr th {\n",
       "        vertical-align: top;\n",
       "    }\n",
       "\n",
       "    .dataframe thead th {\n",
       "        text-align: right;\n",
       "    }\n",
       "</style>\n",
       "<table border=\"1\" class=\"dataframe\">\n",
       "  <thead>\n",
       "    <tr style=\"text-align: right;\">\n",
       "      <th></th>\n",
       "      <th>Course Name</th>\n",
       "      <th>2015 Sch % Acc of Writing</th>\n",
       "      <th>2016 Sch % Acc of Writing</th>\n",
       "      <th>2017 Sch % Acc of Writing</th>\n",
       "      <th>2018 Sch % Acc of Writing</th>\n",
       "      <th>2019 Sch % Acc of Writing</th>\n",
       "    </tr>\n",
       "  </thead>\n",
       "  <tbody>\n",
       "    <tr>\n",
       "      <th>11788</th>\n",
       "      <td>English Language Arts 6</td>\n",
       "      <td>96.0</td>\n",
       "      <td>92.9</td>\n",
       "      <td>90.2</td>\n",
       "      <td>97.4</td>\n",
       "      <td>97.9</td>\n",
       "    </tr>\n",
       "    <tr>\n",
       "      <th>11789</th>\n",
       "      <td>Mathematics 6</td>\n",
       "      <td>79.6</td>\n",
       "      <td>85.7</td>\n",
       "      <td>74.5</td>\n",
       "      <td>76.9</td>\n",
       "      <td>80.9</td>\n",
       "    </tr>\n",
       "    <tr>\n",
       "      <th>11790</th>\n",
       "      <td>Mathematics 6</td>\n",
       "      <td>79.6</td>\n",
       "      <td>85.7</td>\n",
       "      <td>74.5</td>\n",
       "      <td>76.9</td>\n",
       "      <td>80.9</td>\n",
       "    </tr>\n",
       "    <tr>\n",
       "      <th>11791</th>\n",
       "      <td>Science 6</td>\n",
       "      <td>87.8</td>\n",
       "      <td>93.0</td>\n",
       "      <td>92.2</td>\n",
       "      <td>87.2</td>\n",
       "      <td>89.4</td>\n",
       "    </tr>\n",
       "    <tr>\n",
       "      <th>11792</th>\n",
       "      <td>Science 6</td>\n",
       "      <td>87.8</td>\n",
       "      <td>93.0</td>\n",
       "      <td>92.2</td>\n",
       "      <td>87.2</td>\n",
       "      <td>89.4</td>\n",
       "    </tr>\n",
       "    <tr>\n",
       "      <th>11793</th>\n",
       "      <td>Social Studies 6</td>\n",
       "      <td>81.3</td>\n",
       "      <td>74.4</td>\n",
       "      <td>80.4</td>\n",
       "      <td>87.2</td>\n",
       "      <td>83.0</td>\n",
       "    </tr>\n",
       "    <tr>\n",
       "      <th>11794</th>\n",
       "      <td>Social Studies 6</td>\n",
       "      <td>81.3</td>\n",
       "      <td>74.4</td>\n",
       "      <td>80.4</td>\n",
       "      <td>87.2</td>\n",
       "      <td>83.0</td>\n",
       "    </tr>\n",
       "  </tbody>\n",
       "</table>\n",
       "</div>"
      ],
      "text/plain": [
       "                   Course Name  2015 Sch % Acc of Writing  \\\n",
       "11788  English Language Arts 6                       96.0   \n",
       "11789            Mathematics 6                       79.6   \n",
       "11790            Mathematics 6                       79.6   \n",
       "11791                Science 6                       87.8   \n",
       "11792                Science 6                       87.8   \n",
       "11793         Social Studies 6                       81.3   \n",
       "11794         Social Studies 6                       81.3   \n",
       "\n",
       "       2016 Sch % Acc of Writing  2017 Sch % Acc of Writing  \\\n",
       "11788                       92.9                       90.2   \n",
       "11789                       85.7                       74.5   \n",
       "11790                       85.7                       74.5   \n",
       "11791                       93.0                       92.2   \n",
       "11792                       93.0                       92.2   \n",
       "11793                       74.4                       80.4   \n",
       "11794                       74.4                       80.4   \n",
       "\n",
       "       2018 Sch % Acc of Writing  2019 Sch % Acc of Writing  \n",
       "11788                       97.4                       97.9  \n",
       "11789                       76.9                       80.9  \n",
       "11790                       76.9                       80.9  \n",
       "11791                       87.2                       89.4  \n",
       "11792                       87.2                       89.4  \n",
       "11793                       87.2                       83.0  \n",
       "11794                       87.2                       83.0  "
      ]
     },
     "execution_count": 13,
     "metadata": {},
     "output_type": "execute_result"
    }
   ],
   "source": [
    "result = 'Sch % Acc of Writing'\n",
    "columns_to_graph = ['Course Name']\n",
    "for year in years:\n",
    "    columns_to_graph.append(year + ' ' + result)\n",
    "sd[columns_to_graph]"
   ]
  },
  {
   "cell_type": "code",
   "execution_count": 50,
   "metadata": {},
   "outputs": [
    {
     "data": {
      "text/html": [
       "<div>\n",
       "<style scoped>\n",
       "    .dataframe tbody tr th:only-of-type {\n",
       "        vertical-align: middle;\n",
       "    }\n",
       "\n",
       "    .dataframe tbody tr th {\n",
       "        vertical-align: top;\n",
       "    }\n",
       "\n",
       "    .dataframe thead th {\n",
       "        text-align: right;\n",
       "    }\n",
       "</style>\n",
       "<table border=\"1\" class=\"dataframe\">\n",
       "  <thead>\n",
       "    <tr style=\"text-align: right;\">\n",
       "      <th></th>\n",
       "      <th>Course Name</th>\n",
       "      <th>Year</th>\n",
       "      <th>Percent</th>\n",
       "    </tr>\n",
       "  </thead>\n",
       "  <tbody>\n",
       "    <tr>\n",
       "      <th>0</th>\n",
       "      <td>English Language Arts 6</td>\n",
       "      <td>2015 Sch % Acc of Writing</td>\n",
       "      <td>96.0</td>\n",
       "    </tr>\n",
       "    <tr>\n",
       "      <th>1</th>\n",
       "      <td>English Language Arts 6</td>\n",
       "      <td>2016 Sch % Acc of Writing</td>\n",
       "      <td>92.9</td>\n",
       "    </tr>\n",
       "    <tr>\n",
       "      <th>2</th>\n",
       "      <td>English Language Arts 6</td>\n",
       "      <td>2017 Sch % Acc of Writing</td>\n",
       "      <td>90.2</td>\n",
       "    </tr>\n",
       "    <tr>\n",
       "      <th>3</th>\n",
       "      <td>English Language Arts 6</td>\n",
       "      <td>2018 Sch % Acc of Writing</td>\n",
       "      <td>97.4</td>\n",
       "    </tr>\n",
       "    <tr>\n",
       "      <th>4</th>\n",
       "      <td>English Language Arts 6</td>\n",
       "      <td>2019 Sch % Acc of Writing</td>\n",
       "      <td>97.9</td>\n",
       "    </tr>\n",
       "    <tr>\n",
       "      <th>5</th>\n",
       "      <td>Mathematics 6</td>\n",
       "      <td>2015 Sch % Acc of Writing</td>\n",
       "      <td>79.6</td>\n",
       "    </tr>\n",
       "    <tr>\n",
       "      <th>6</th>\n",
       "      <td>Mathematics 6</td>\n",
       "      <td>2016 Sch % Acc of Writing</td>\n",
       "      <td>85.7</td>\n",
       "    </tr>\n",
       "    <tr>\n",
       "      <th>7</th>\n",
       "      <td>Mathematics 6</td>\n",
       "      <td>2017 Sch % Acc of Writing</td>\n",
       "      <td>74.5</td>\n",
       "    </tr>\n",
       "    <tr>\n",
       "      <th>8</th>\n",
       "      <td>Mathematics 6</td>\n",
       "      <td>2018 Sch % Acc of Writing</td>\n",
       "      <td>76.9</td>\n",
       "    </tr>\n",
       "    <tr>\n",
       "      <th>9</th>\n",
       "      <td>Mathematics 6</td>\n",
       "      <td>2019 Sch % Acc of Writing</td>\n",
       "      <td>80.9</td>\n",
       "    </tr>\n",
       "    <tr>\n",
       "      <th>10</th>\n",
       "      <td>Mathematics 6</td>\n",
       "      <td>2015 Sch % Acc of Writing</td>\n",
       "      <td>79.6</td>\n",
       "    </tr>\n",
       "    <tr>\n",
       "      <th>11</th>\n",
       "      <td>Mathematics 6</td>\n",
       "      <td>2016 Sch % Acc of Writing</td>\n",
       "      <td>85.7</td>\n",
       "    </tr>\n",
       "    <tr>\n",
       "      <th>12</th>\n",
       "      <td>Mathematics 6</td>\n",
       "      <td>2017 Sch % Acc of Writing</td>\n",
       "      <td>74.5</td>\n",
       "    </tr>\n",
       "    <tr>\n",
       "      <th>13</th>\n",
       "      <td>Mathematics 6</td>\n",
       "      <td>2018 Sch % Acc of Writing</td>\n",
       "      <td>76.9</td>\n",
       "    </tr>\n",
       "    <tr>\n",
       "      <th>14</th>\n",
       "      <td>Mathematics 6</td>\n",
       "      <td>2019 Sch % Acc of Writing</td>\n",
       "      <td>80.9</td>\n",
       "    </tr>\n",
       "    <tr>\n",
       "      <th>15</th>\n",
       "      <td>Science 6</td>\n",
       "      <td>2015 Sch % Acc of Writing</td>\n",
       "      <td>87.8</td>\n",
       "    </tr>\n",
       "    <tr>\n",
       "      <th>16</th>\n",
       "      <td>Science 6</td>\n",
       "      <td>2016 Sch % Acc of Writing</td>\n",
       "      <td>93.0</td>\n",
       "    </tr>\n",
       "    <tr>\n",
       "      <th>17</th>\n",
       "      <td>Science 6</td>\n",
       "      <td>2017 Sch % Acc of Writing</td>\n",
       "      <td>92.2</td>\n",
       "    </tr>\n",
       "    <tr>\n",
       "      <th>18</th>\n",
       "      <td>Science 6</td>\n",
       "      <td>2018 Sch % Acc of Writing</td>\n",
       "      <td>87.2</td>\n",
       "    </tr>\n",
       "    <tr>\n",
       "      <th>19</th>\n",
       "      <td>Science 6</td>\n",
       "      <td>2019 Sch % Acc of Writing</td>\n",
       "      <td>89.4</td>\n",
       "    </tr>\n",
       "    <tr>\n",
       "      <th>20</th>\n",
       "      <td>Science 6</td>\n",
       "      <td>2015 Sch % Acc of Writing</td>\n",
       "      <td>87.8</td>\n",
       "    </tr>\n",
       "    <tr>\n",
       "      <th>21</th>\n",
       "      <td>Science 6</td>\n",
       "      <td>2016 Sch % Acc of Writing</td>\n",
       "      <td>93.0</td>\n",
       "    </tr>\n",
       "    <tr>\n",
       "      <th>22</th>\n",
       "      <td>Science 6</td>\n",
       "      <td>2017 Sch % Acc of Writing</td>\n",
       "      <td>92.2</td>\n",
       "    </tr>\n",
       "    <tr>\n",
       "      <th>23</th>\n",
       "      <td>Science 6</td>\n",
       "      <td>2018 Sch % Acc of Writing</td>\n",
       "      <td>87.2</td>\n",
       "    </tr>\n",
       "    <tr>\n",
       "      <th>24</th>\n",
       "      <td>Science 6</td>\n",
       "      <td>2019 Sch % Acc of Writing</td>\n",
       "      <td>89.4</td>\n",
       "    </tr>\n",
       "    <tr>\n",
       "      <th>25</th>\n",
       "      <td>Social Studies 6</td>\n",
       "      <td>2015 Sch % Acc of Writing</td>\n",
       "      <td>81.3</td>\n",
       "    </tr>\n",
       "    <tr>\n",
       "      <th>26</th>\n",
       "      <td>Social Studies 6</td>\n",
       "      <td>2016 Sch % Acc of Writing</td>\n",
       "      <td>74.4</td>\n",
       "    </tr>\n",
       "    <tr>\n",
       "      <th>27</th>\n",
       "      <td>Social Studies 6</td>\n",
       "      <td>2017 Sch % Acc of Writing</td>\n",
       "      <td>80.4</td>\n",
       "    </tr>\n",
       "    <tr>\n",
       "      <th>28</th>\n",
       "      <td>Social Studies 6</td>\n",
       "      <td>2018 Sch % Acc of Writing</td>\n",
       "      <td>87.2</td>\n",
       "    </tr>\n",
       "    <tr>\n",
       "      <th>29</th>\n",
       "      <td>Social Studies 6</td>\n",
       "      <td>2019 Sch % Acc of Writing</td>\n",
       "      <td>83.0</td>\n",
       "    </tr>\n",
       "    <tr>\n",
       "      <th>30</th>\n",
       "      <td>Social Studies 6</td>\n",
       "      <td>2015 Sch % Acc of Writing</td>\n",
       "      <td>81.3</td>\n",
       "    </tr>\n",
       "    <tr>\n",
       "      <th>31</th>\n",
       "      <td>Social Studies 6</td>\n",
       "      <td>2016 Sch % Acc of Writing</td>\n",
       "      <td>74.4</td>\n",
       "    </tr>\n",
       "    <tr>\n",
       "      <th>32</th>\n",
       "      <td>Social Studies 6</td>\n",
       "      <td>2017 Sch % Acc of Writing</td>\n",
       "      <td>80.4</td>\n",
       "    </tr>\n",
       "    <tr>\n",
       "      <th>33</th>\n",
       "      <td>Social Studies 6</td>\n",
       "      <td>2018 Sch % Acc of Writing</td>\n",
       "      <td>87.2</td>\n",
       "    </tr>\n",
       "    <tr>\n",
       "      <th>34</th>\n",
       "      <td>Social Studies 6</td>\n",
       "      <td>2019 Sch % Acc of Writing</td>\n",
       "      <td>83.0</td>\n",
       "    </tr>\n",
       "  </tbody>\n",
       "</table>\n",
       "</div>"
      ],
      "text/plain": [
       "                Course Name                       Year  Percent\n",
       "0   English Language Arts 6  2015 Sch % Acc of Writing     96.0\n",
       "1   English Language Arts 6  2016 Sch % Acc of Writing     92.9\n",
       "2   English Language Arts 6  2017 Sch % Acc of Writing     90.2\n",
       "3   English Language Arts 6  2018 Sch % Acc of Writing     97.4\n",
       "4   English Language Arts 6  2019 Sch % Acc of Writing     97.9\n",
       "5             Mathematics 6  2015 Sch % Acc of Writing     79.6\n",
       "6             Mathematics 6  2016 Sch % Acc of Writing     85.7\n",
       "7             Mathematics 6  2017 Sch % Acc of Writing     74.5\n",
       "8             Mathematics 6  2018 Sch % Acc of Writing     76.9\n",
       "9             Mathematics 6  2019 Sch % Acc of Writing     80.9\n",
       "10            Mathematics 6  2015 Sch % Acc of Writing     79.6\n",
       "11            Mathematics 6  2016 Sch % Acc of Writing     85.7\n",
       "12            Mathematics 6  2017 Sch % Acc of Writing     74.5\n",
       "13            Mathematics 6  2018 Sch % Acc of Writing     76.9\n",
       "14            Mathematics 6  2019 Sch % Acc of Writing     80.9\n",
       "15                Science 6  2015 Sch % Acc of Writing     87.8\n",
       "16                Science 6  2016 Sch % Acc of Writing     93.0\n",
       "17                Science 6  2017 Sch % Acc of Writing     92.2\n",
       "18                Science 6  2018 Sch % Acc of Writing     87.2\n",
       "19                Science 6  2019 Sch % Acc of Writing     89.4\n",
       "20                Science 6  2015 Sch % Acc of Writing     87.8\n",
       "21                Science 6  2016 Sch % Acc of Writing     93.0\n",
       "22                Science 6  2017 Sch % Acc of Writing     92.2\n",
       "23                Science 6  2018 Sch % Acc of Writing     87.2\n",
       "24                Science 6  2019 Sch % Acc of Writing     89.4\n",
       "25         Social Studies 6  2015 Sch % Acc of Writing     81.3\n",
       "26         Social Studies 6  2016 Sch % Acc of Writing     74.4\n",
       "27         Social Studies 6  2017 Sch % Acc of Writing     80.4\n",
       "28         Social Studies 6  2018 Sch % Acc of Writing     87.2\n",
       "29         Social Studies 6  2019 Sch % Acc of Writing     83.0\n",
       "30         Social Studies 6  2015 Sch % Acc of Writing     81.3\n",
       "31         Social Studies 6  2016 Sch % Acc of Writing     74.4\n",
       "32         Social Studies 6  2017 Sch % Acc of Writing     80.4\n",
       "33         Social Studies 6  2018 Sch % Acc of Writing     87.2\n",
       "34         Social Studies 6  2019 Sch % Acc of Writing     83.0"
      ]
     },
     "execution_count": 50,
     "metadata": {},
     "output_type": "execute_result"
    }
   ],
   "source": [
    "asdf = sd[columns_to_graph].set_index('Course Name').stack().reset_index()\n",
    "asdf.columns = ['Course Name', 'Year', 'Percent']\n",
    "asdf"
   ]
  },
  {
   "cell_type": "code",
   "execution_count": 51,
   "metadata": {},
   "outputs": [
    {
     "data": {
      "application/vnd.plotly.v1+json": {
       "config": {
        "plotlyServerURL": "https://plot.ly"
       },
       "data": [
        {
         "hovertemplate": "Course Name=English Language Arts 6<br>Year=%{x}<br>Percent=%{y}<extra></extra>",
         "legendgroup": "English Language Arts 6",
         "line": {
          "color": "#636efa",
          "dash": "solid"
         },
         "mode": "lines",
         "name": "English Language Arts 6",
         "orientation": "v",
         "showlegend": true,
         "type": "scatter",
         "x": [
          "2015 Sch % Acc of Writing",
          "2016 Sch % Acc of Writing",
          "2017 Sch % Acc of Writing",
          "2018 Sch % Acc of Writing",
          "2019 Sch % Acc of Writing"
         ],
         "xaxis": "x",
         "y": [
          96,
          92.9,
          90.2,
          97.4,
          97.9
         ],
         "yaxis": "y"
        },
        {
         "hovertemplate": "Course Name=Mathematics 6<br>Year=%{x}<br>Percent=%{y}<extra></extra>",
         "legendgroup": "Mathematics 6",
         "line": {
          "color": "#EF553B",
          "dash": "solid"
         },
         "mode": "lines",
         "name": "Mathematics 6",
         "orientation": "v",
         "showlegend": true,
         "type": "scatter",
         "x": [
          "2015 Sch % Acc of Writing",
          "2016 Sch % Acc of Writing",
          "2017 Sch % Acc of Writing",
          "2018 Sch % Acc of Writing",
          "2019 Sch % Acc of Writing",
          "2015 Sch % Acc of Writing",
          "2016 Sch % Acc of Writing",
          "2017 Sch % Acc of Writing",
          "2018 Sch % Acc of Writing",
          "2019 Sch % Acc of Writing"
         ],
         "xaxis": "x",
         "y": [
          79.6,
          85.7,
          74.5,
          76.9,
          80.9,
          79.6,
          85.7,
          74.5,
          76.9,
          80.9
         ],
         "yaxis": "y"
        },
        {
         "hovertemplate": "Course Name=Science 6<br>Year=%{x}<br>Percent=%{y}<extra></extra>",
         "legendgroup": "Science 6",
         "line": {
          "color": "#00cc96",
          "dash": "solid"
         },
         "mode": "lines",
         "name": "Science 6",
         "orientation": "v",
         "showlegend": true,
         "type": "scatter",
         "x": [
          "2015 Sch % Acc of Writing",
          "2016 Sch % Acc of Writing",
          "2017 Sch % Acc of Writing",
          "2018 Sch % Acc of Writing",
          "2019 Sch % Acc of Writing",
          "2015 Sch % Acc of Writing",
          "2016 Sch % Acc of Writing",
          "2017 Sch % Acc of Writing",
          "2018 Sch % Acc of Writing",
          "2019 Sch % Acc of Writing"
         ],
         "xaxis": "x",
         "y": [
          87.8,
          93,
          92.2,
          87.2,
          89.4,
          87.8,
          93,
          92.2,
          87.2,
          89.4
         ],
         "yaxis": "y"
        },
        {
         "hovertemplate": "Course Name=Social Studies 6<br>Year=%{x}<br>Percent=%{y}<extra></extra>",
         "legendgroup": "Social Studies 6",
         "line": {
          "color": "#ab63fa",
          "dash": "solid"
         },
         "mode": "lines",
         "name": "Social Studies 6",
         "orientation": "v",
         "showlegend": true,
         "type": "scatter",
         "x": [
          "2015 Sch % Acc of Writing",
          "2016 Sch % Acc of Writing",
          "2017 Sch % Acc of Writing",
          "2018 Sch % Acc of Writing",
          "2019 Sch % Acc of Writing",
          "2015 Sch % Acc of Writing",
          "2016 Sch % Acc of Writing",
          "2017 Sch % Acc of Writing",
          "2018 Sch % Acc of Writing",
          "2019 Sch % Acc of Writing"
         ],
         "xaxis": "x",
         "y": [
          81.3,
          74.4,
          80.4,
          87.2,
          83,
          81.3,
          74.4,
          80.4,
          87.2,
          83
         ],
         "yaxis": "y"
        }
       ],
       "layout": {
        "legend": {
         "title": {
          "text": "Course Name"
         },
         "tracegroupgap": 0
        },
        "margin": {
         "t": 60
        },
        "template": {
         "data": {
          "bar": [
           {
            "error_x": {
             "color": "#2a3f5f"
            },
            "error_y": {
             "color": "#2a3f5f"
            },
            "marker": {
             "line": {
              "color": "#E5ECF6",
              "width": 0.5
             }
            },
            "type": "bar"
           }
          ],
          "barpolar": [
           {
            "marker": {
             "line": {
              "color": "#E5ECF6",
              "width": 0.5
             }
            },
            "type": "barpolar"
           }
          ],
          "carpet": [
           {
            "aaxis": {
             "endlinecolor": "#2a3f5f",
             "gridcolor": "white",
             "linecolor": "white",
             "minorgridcolor": "white",
             "startlinecolor": "#2a3f5f"
            },
            "baxis": {
             "endlinecolor": "#2a3f5f",
             "gridcolor": "white",
             "linecolor": "white",
             "minorgridcolor": "white",
             "startlinecolor": "#2a3f5f"
            },
            "type": "carpet"
           }
          ],
          "choropleth": [
           {
            "colorbar": {
             "outlinewidth": 0,
             "ticks": ""
            },
            "type": "choropleth"
           }
          ],
          "contour": [
           {
            "colorbar": {
             "outlinewidth": 0,
             "ticks": ""
            },
            "colorscale": [
             [
              0,
              "#0d0887"
             ],
             [
              0.1111111111111111,
              "#46039f"
             ],
             [
              0.2222222222222222,
              "#7201a8"
             ],
             [
              0.3333333333333333,
              "#9c179e"
             ],
             [
              0.4444444444444444,
              "#bd3786"
             ],
             [
              0.5555555555555556,
              "#d8576b"
             ],
             [
              0.6666666666666666,
              "#ed7953"
             ],
             [
              0.7777777777777778,
              "#fb9f3a"
             ],
             [
              0.8888888888888888,
              "#fdca26"
             ],
             [
              1,
              "#f0f921"
             ]
            ],
            "type": "contour"
           }
          ],
          "contourcarpet": [
           {
            "colorbar": {
             "outlinewidth": 0,
             "ticks": ""
            },
            "type": "contourcarpet"
           }
          ],
          "heatmap": [
           {
            "colorbar": {
             "outlinewidth": 0,
             "ticks": ""
            },
            "colorscale": [
             [
              0,
              "#0d0887"
             ],
             [
              0.1111111111111111,
              "#46039f"
             ],
             [
              0.2222222222222222,
              "#7201a8"
             ],
             [
              0.3333333333333333,
              "#9c179e"
             ],
             [
              0.4444444444444444,
              "#bd3786"
             ],
             [
              0.5555555555555556,
              "#d8576b"
             ],
             [
              0.6666666666666666,
              "#ed7953"
             ],
             [
              0.7777777777777778,
              "#fb9f3a"
             ],
             [
              0.8888888888888888,
              "#fdca26"
             ],
             [
              1,
              "#f0f921"
             ]
            ],
            "type": "heatmap"
           }
          ],
          "heatmapgl": [
           {
            "colorbar": {
             "outlinewidth": 0,
             "ticks": ""
            },
            "colorscale": [
             [
              0,
              "#0d0887"
             ],
             [
              0.1111111111111111,
              "#46039f"
             ],
             [
              0.2222222222222222,
              "#7201a8"
             ],
             [
              0.3333333333333333,
              "#9c179e"
             ],
             [
              0.4444444444444444,
              "#bd3786"
             ],
             [
              0.5555555555555556,
              "#d8576b"
             ],
             [
              0.6666666666666666,
              "#ed7953"
             ],
             [
              0.7777777777777778,
              "#fb9f3a"
             ],
             [
              0.8888888888888888,
              "#fdca26"
             ],
             [
              1,
              "#f0f921"
             ]
            ],
            "type": "heatmapgl"
           }
          ],
          "histogram": [
           {
            "marker": {
             "colorbar": {
              "outlinewidth": 0,
              "ticks": ""
             }
            },
            "type": "histogram"
           }
          ],
          "histogram2d": [
           {
            "colorbar": {
             "outlinewidth": 0,
             "ticks": ""
            },
            "colorscale": [
             [
              0,
              "#0d0887"
             ],
             [
              0.1111111111111111,
              "#46039f"
             ],
             [
              0.2222222222222222,
              "#7201a8"
             ],
             [
              0.3333333333333333,
              "#9c179e"
             ],
             [
              0.4444444444444444,
              "#bd3786"
             ],
             [
              0.5555555555555556,
              "#d8576b"
             ],
             [
              0.6666666666666666,
              "#ed7953"
             ],
             [
              0.7777777777777778,
              "#fb9f3a"
             ],
             [
              0.8888888888888888,
              "#fdca26"
             ],
             [
              1,
              "#f0f921"
             ]
            ],
            "type": "histogram2d"
           }
          ],
          "histogram2dcontour": [
           {
            "colorbar": {
             "outlinewidth": 0,
             "ticks": ""
            },
            "colorscale": [
             [
              0,
              "#0d0887"
             ],
             [
              0.1111111111111111,
              "#46039f"
             ],
             [
              0.2222222222222222,
              "#7201a8"
             ],
             [
              0.3333333333333333,
              "#9c179e"
             ],
             [
              0.4444444444444444,
              "#bd3786"
             ],
             [
              0.5555555555555556,
              "#d8576b"
             ],
             [
              0.6666666666666666,
              "#ed7953"
             ],
             [
              0.7777777777777778,
              "#fb9f3a"
             ],
             [
              0.8888888888888888,
              "#fdca26"
             ],
             [
              1,
              "#f0f921"
             ]
            ],
            "type": "histogram2dcontour"
           }
          ],
          "mesh3d": [
           {
            "colorbar": {
             "outlinewidth": 0,
             "ticks": ""
            },
            "type": "mesh3d"
           }
          ],
          "parcoords": [
           {
            "line": {
             "colorbar": {
              "outlinewidth": 0,
              "ticks": ""
             }
            },
            "type": "parcoords"
           }
          ],
          "pie": [
           {
            "automargin": true,
            "type": "pie"
           }
          ],
          "scatter": [
           {
            "marker": {
             "colorbar": {
              "outlinewidth": 0,
              "ticks": ""
             }
            },
            "type": "scatter"
           }
          ],
          "scatter3d": [
           {
            "line": {
             "colorbar": {
              "outlinewidth": 0,
              "ticks": ""
             }
            },
            "marker": {
             "colorbar": {
              "outlinewidth": 0,
              "ticks": ""
             }
            },
            "type": "scatter3d"
           }
          ],
          "scattercarpet": [
           {
            "marker": {
             "colorbar": {
              "outlinewidth": 0,
              "ticks": ""
             }
            },
            "type": "scattercarpet"
           }
          ],
          "scattergeo": [
           {
            "marker": {
             "colorbar": {
              "outlinewidth": 0,
              "ticks": ""
             }
            },
            "type": "scattergeo"
           }
          ],
          "scattergl": [
           {
            "marker": {
             "colorbar": {
              "outlinewidth": 0,
              "ticks": ""
             }
            },
            "type": "scattergl"
           }
          ],
          "scattermapbox": [
           {
            "marker": {
             "colorbar": {
              "outlinewidth": 0,
              "ticks": ""
             }
            },
            "type": "scattermapbox"
           }
          ],
          "scatterpolar": [
           {
            "marker": {
             "colorbar": {
              "outlinewidth": 0,
              "ticks": ""
             }
            },
            "type": "scatterpolar"
           }
          ],
          "scatterpolargl": [
           {
            "marker": {
             "colorbar": {
              "outlinewidth": 0,
              "ticks": ""
             }
            },
            "type": "scatterpolargl"
           }
          ],
          "scatterternary": [
           {
            "marker": {
             "colorbar": {
              "outlinewidth": 0,
              "ticks": ""
             }
            },
            "type": "scatterternary"
           }
          ],
          "surface": [
           {
            "colorbar": {
             "outlinewidth": 0,
             "ticks": ""
            },
            "colorscale": [
             [
              0,
              "#0d0887"
             ],
             [
              0.1111111111111111,
              "#46039f"
             ],
             [
              0.2222222222222222,
              "#7201a8"
             ],
             [
              0.3333333333333333,
              "#9c179e"
             ],
             [
              0.4444444444444444,
              "#bd3786"
             ],
             [
              0.5555555555555556,
              "#d8576b"
             ],
             [
              0.6666666666666666,
              "#ed7953"
             ],
             [
              0.7777777777777778,
              "#fb9f3a"
             ],
             [
              0.8888888888888888,
              "#fdca26"
             ],
             [
              1,
              "#f0f921"
             ]
            ],
            "type": "surface"
           }
          ],
          "table": [
           {
            "cells": {
             "fill": {
              "color": "#EBF0F8"
             },
             "line": {
              "color": "white"
             }
            },
            "header": {
             "fill": {
              "color": "#C8D4E3"
             },
             "line": {
              "color": "white"
             }
            },
            "type": "table"
           }
          ]
         },
         "layout": {
          "annotationdefaults": {
           "arrowcolor": "#2a3f5f",
           "arrowhead": 0,
           "arrowwidth": 1
          },
          "coloraxis": {
           "colorbar": {
            "outlinewidth": 0,
            "ticks": ""
           }
          },
          "colorscale": {
           "diverging": [
            [
             0,
             "#8e0152"
            ],
            [
             0.1,
             "#c51b7d"
            ],
            [
             0.2,
             "#de77ae"
            ],
            [
             0.3,
             "#f1b6da"
            ],
            [
             0.4,
             "#fde0ef"
            ],
            [
             0.5,
             "#f7f7f7"
            ],
            [
             0.6,
             "#e6f5d0"
            ],
            [
             0.7,
             "#b8e186"
            ],
            [
             0.8,
             "#7fbc41"
            ],
            [
             0.9,
             "#4d9221"
            ],
            [
             1,
             "#276419"
            ]
           ],
           "sequential": [
            [
             0,
             "#0d0887"
            ],
            [
             0.1111111111111111,
             "#46039f"
            ],
            [
             0.2222222222222222,
             "#7201a8"
            ],
            [
             0.3333333333333333,
             "#9c179e"
            ],
            [
             0.4444444444444444,
             "#bd3786"
            ],
            [
             0.5555555555555556,
             "#d8576b"
            ],
            [
             0.6666666666666666,
             "#ed7953"
            ],
            [
             0.7777777777777778,
             "#fb9f3a"
            ],
            [
             0.8888888888888888,
             "#fdca26"
            ],
            [
             1,
             "#f0f921"
            ]
           ],
           "sequentialminus": [
            [
             0,
             "#0d0887"
            ],
            [
             0.1111111111111111,
             "#46039f"
            ],
            [
             0.2222222222222222,
             "#7201a8"
            ],
            [
             0.3333333333333333,
             "#9c179e"
            ],
            [
             0.4444444444444444,
             "#bd3786"
            ],
            [
             0.5555555555555556,
             "#d8576b"
            ],
            [
             0.6666666666666666,
             "#ed7953"
            ],
            [
             0.7777777777777778,
             "#fb9f3a"
            ],
            [
             0.8888888888888888,
             "#fdca26"
            ],
            [
             1,
             "#f0f921"
            ]
           ]
          },
          "colorway": [
           "#636efa",
           "#EF553B",
           "#00cc96",
           "#ab63fa",
           "#FFA15A",
           "#19d3f3",
           "#FF6692",
           "#B6E880",
           "#FF97FF",
           "#FECB52"
          ],
          "font": {
           "color": "#2a3f5f"
          },
          "geo": {
           "bgcolor": "white",
           "lakecolor": "white",
           "landcolor": "#E5ECF6",
           "showlakes": true,
           "showland": true,
           "subunitcolor": "white"
          },
          "hoverlabel": {
           "align": "left"
          },
          "hovermode": "closest",
          "mapbox": {
           "style": "light"
          },
          "paper_bgcolor": "white",
          "plot_bgcolor": "#E5ECF6",
          "polar": {
           "angularaxis": {
            "gridcolor": "white",
            "linecolor": "white",
            "ticks": ""
           },
           "bgcolor": "#E5ECF6",
           "radialaxis": {
            "gridcolor": "white",
            "linecolor": "white",
            "ticks": ""
           }
          },
          "scene": {
           "xaxis": {
            "backgroundcolor": "#E5ECF6",
            "gridcolor": "white",
            "gridwidth": 2,
            "linecolor": "white",
            "showbackground": true,
            "ticks": "",
            "zerolinecolor": "white"
           },
           "yaxis": {
            "backgroundcolor": "#E5ECF6",
            "gridcolor": "white",
            "gridwidth": 2,
            "linecolor": "white",
            "showbackground": true,
            "ticks": "",
            "zerolinecolor": "white"
           },
           "zaxis": {
            "backgroundcolor": "#E5ECF6",
            "gridcolor": "white",
            "gridwidth": 2,
            "linecolor": "white",
            "showbackground": true,
            "ticks": "",
            "zerolinecolor": "white"
           }
          },
          "shapedefaults": {
           "line": {
            "color": "#2a3f5f"
           }
          },
          "ternary": {
           "aaxis": {
            "gridcolor": "white",
            "linecolor": "white",
            "ticks": ""
           },
           "baxis": {
            "gridcolor": "white",
            "linecolor": "white",
            "ticks": ""
           },
           "bgcolor": "#E5ECF6",
           "caxis": {
            "gridcolor": "white",
            "linecolor": "white",
            "ticks": ""
           }
          },
          "title": {
           "x": 0.05
          },
          "xaxis": {
           "automargin": true,
           "gridcolor": "white",
           "linecolor": "white",
           "ticks": "",
           "title": {
            "standoff": 15
           },
           "zerolinecolor": "white",
           "zerolinewidth": 2
          },
          "yaxis": {
           "automargin": true,
           "gridcolor": "white",
           "linecolor": "white",
           "ticks": "",
           "title": {
            "standoff": 15
           },
           "zerolinecolor": "white",
           "zerolinewidth": 2
          }
         }
        },
        "xaxis": {
         "anchor": "y",
         "domain": [
          0,
          1
         ],
         "title": {
          "text": "Year"
         }
        },
        "yaxis": {
         "anchor": "x",
         "domain": [
          0,
          1
         ],
         "title": {
          "text": "Percent"
         }
        }
       }
      },
      "text/html": [
       "<div>                            <div id=\"bbe9c30e-d5c2-4dad-a0b9-cbe1101ae6b4\" class=\"plotly-graph-div\" style=\"height:525px; width:100%;\"></div>            <script type=\"text/javascript\">                require([\"plotly\"], function(Plotly) {                    window.PLOTLYENV=window.PLOTLYENV || {};                                    if (document.getElementById(\"bbe9c30e-d5c2-4dad-a0b9-cbe1101ae6b4\")) {                    Plotly.newPlot(                        \"bbe9c30e-d5c2-4dad-a0b9-cbe1101ae6b4\",                        [{\"hovertemplate\": \"Course Name=English Language Arts 6<br>Year=%{x}<br>Percent=%{y}<extra></extra>\", \"legendgroup\": \"English Language Arts 6\", \"line\": {\"color\": \"#636efa\", \"dash\": \"solid\"}, \"mode\": \"lines\", \"name\": \"English Language Arts 6\", \"orientation\": \"v\", \"showlegend\": true, \"type\": \"scatter\", \"x\": [\"2015 Sch % Acc of Writing\", \"2016 Sch % Acc of Writing\", \"2017 Sch % Acc of Writing\", \"2018 Sch % Acc of Writing\", \"2019 Sch % Acc of Writing\"], \"xaxis\": \"x\", \"y\": [96.0, 92.9, 90.2, 97.4, 97.9], \"yaxis\": \"y\"}, {\"hovertemplate\": \"Course Name=Mathematics 6<br>Year=%{x}<br>Percent=%{y}<extra></extra>\", \"legendgroup\": \"Mathematics 6\", \"line\": {\"color\": \"#EF553B\", \"dash\": \"solid\"}, \"mode\": \"lines\", \"name\": \"Mathematics 6\", \"orientation\": \"v\", \"showlegend\": true, \"type\": \"scatter\", \"x\": [\"2015 Sch % Acc of Writing\", \"2016 Sch % Acc of Writing\", \"2017 Sch % Acc of Writing\", \"2018 Sch % Acc of Writing\", \"2019 Sch % Acc of Writing\", \"2015 Sch % Acc of Writing\", \"2016 Sch % Acc of Writing\", \"2017 Sch % Acc of Writing\", \"2018 Sch % Acc of Writing\", \"2019 Sch % Acc of Writing\"], \"xaxis\": \"x\", \"y\": [79.6, 85.7, 74.5, 76.9, 80.9, 79.6, 85.7, 74.5, 76.9, 80.9], \"yaxis\": \"y\"}, {\"hovertemplate\": \"Course Name=Science 6<br>Year=%{x}<br>Percent=%{y}<extra></extra>\", \"legendgroup\": \"Science 6\", \"line\": {\"color\": \"#00cc96\", \"dash\": \"solid\"}, \"mode\": \"lines\", \"name\": \"Science 6\", \"orientation\": \"v\", \"showlegend\": true, \"type\": \"scatter\", \"x\": [\"2015 Sch % Acc of Writing\", \"2016 Sch % Acc of Writing\", \"2017 Sch % Acc of Writing\", \"2018 Sch % Acc of Writing\", \"2019 Sch % Acc of Writing\", \"2015 Sch % Acc of Writing\", \"2016 Sch % Acc of Writing\", \"2017 Sch % Acc of Writing\", \"2018 Sch % Acc of Writing\", \"2019 Sch % Acc of Writing\"], \"xaxis\": \"x\", \"y\": [87.8, 93.0, 92.2, 87.2, 89.4, 87.8, 93.0, 92.2, 87.2, 89.4], \"yaxis\": \"y\"}, {\"hovertemplate\": \"Course Name=Social Studies 6<br>Year=%{x}<br>Percent=%{y}<extra></extra>\", \"legendgroup\": \"Social Studies 6\", \"line\": {\"color\": \"#ab63fa\", \"dash\": \"solid\"}, \"mode\": \"lines\", \"name\": \"Social Studies 6\", \"orientation\": \"v\", \"showlegend\": true, \"type\": \"scatter\", \"x\": [\"2015 Sch % Acc of Writing\", \"2016 Sch % Acc of Writing\", \"2017 Sch % Acc of Writing\", \"2018 Sch % Acc of Writing\", \"2019 Sch % Acc of Writing\", \"2015 Sch % Acc of Writing\", \"2016 Sch % Acc of Writing\", \"2017 Sch % Acc of Writing\", \"2018 Sch % Acc of Writing\", \"2019 Sch % Acc of Writing\"], \"xaxis\": \"x\", \"y\": [81.3, 74.4, 80.4, 87.2, 83.0, 81.3, 74.4, 80.4, 87.2, 83.0], \"yaxis\": \"y\"}],                        {\"legend\": {\"title\": {\"text\": \"Course Name\"}, \"tracegroupgap\": 0}, \"margin\": {\"t\": 60}, \"template\": {\"data\": {\"bar\": [{\"error_x\": {\"color\": \"#2a3f5f\"}, \"error_y\": {\"color\": \"#2a3f5f\"}, \"marker\": {\"line\": {\"color\": \"#E5ECF6\", \"width\": 0.5}}, \"type\": \"bar\"}], \"barpolar\": [{\"marker\": {\"line\": {\"color\": \"#E5ECF6\", \"width\": 0.5}}, \"type\": \"barpolar\"}], \"carpet\": [{\"aaxis\": {\"endlinecolor\": \"#2a3f5f\", \"gridcolor\": \"white\", \"linecolor\": \"white\", \"minorgridcolor\": \"white\", \"startlinecolor\": \"#2a3f5f\"}, \"baxis\": {\"endlinecolor\": \"#2a3f5f\", \"gridcolor\": \"white\", \"linecolor\": \"white\", \"minorgridcolor\": \"white\", \"startlinecolor\": \"#2a3f5f\"}, \"type\": \"carpet\"}], \"choropleth\": [{\"colorbar\": {\"outlinewidth\": 0, \"ticks\": \"\"}, \"type\": \"choropleth\"}], \"contour\": [{\"colorbar\": {\"outlinewidth\": 0, \"ticks\": \"\"}, \"colorscale\": [[0.0, \"#0d0887\"], [0.1111111111111111, \"#46039f\"], [0.2222222222222222, \"#7201a8\"], [0.3333333333333333, \"#9c179e\"], [0.4444444444444444, \"#bd3786\"], [0.5555555555555556, \"#d8576b\"], [0.6666666666666666, \"#ed7953\"], [0.7777777777777778, \"#fb9f3a\"], [0.8888888888888888, \"#fdca26\"], [1.0, \"#f0f921\"]], \"type\": \"contour\"}], \"contourcarpet\": [{\"colorbar\": {\"outlinewidth\": 0, \"ticks\": \"\"}, \"type\": \"contourcarpet\"}], \"heatmap\": [{\"colorbar\": {\"outlinewidth\": 0, \"ticks\": \"\"}, \"colorscale\": [[0.0, \"#0d0887\"], [0.1111111111111111, \"#46039f\"], [0.2222222222222222, \"#7201a8\"], [0.3333333333333333, \"#9c179e\"], [0.4444444444444444, \"#bd3786\"], [0.5555555555555556, \"#d8576b\"], [0.6666666666666666, \"#ed7953\"], [0.7777777777777778, \"#fb9f3a\"], [0.8888888888888888, \"#fdca26\"], [1.0, \"#f0f921\"]], \"type\": \"heatmap\"}], \"heatmapgl\": [{\"colorbar\": {\"outlinewidth\": 0, \"ticks\": \"\"}, \"colorscale\": [[0.0, \"#0d0887\"], [0.1111111111111111, \"#46039f\"], [0.2222222222222222, \"#7201a8\"], [0.3333333333333333, \"#9c179e\"], [0.4444444444444444, \"#bd3786\"], [0.5555555555555556, \"#d8576b\"], [0.6666666666666666, \"#ed7953\"], [0.7777777777777778, \"#fb9f3a\"], [0.8888888888888888, \"#fdca26\"], [1.0, \"#f0f921\"]], \"type\": \"heatmapgl\"}], \"histogram\": [{\"marker\": {\"colorbar\": {\"outlinewidth\": 0, \"ticks\": \"\"}}, \"type\": \"histogram\"}], \"histogram2d\": [{\"colorbar\": {\"outlinewidth\": 0, \"ticks\": \"\"}, \"colorscale\": [[0.0, \"#0d0887\"], [0.1111111111111111, \"#46039f\"], [0.2222222222222222, \"#7201a8\"], [0.3333333333333333, \"#9c179e\"], [0.4444444444444444, \"#bd3786\"], [0.5555555555555556, \"#d8576b\"], [0.6666666666666666, \"#ed7953\"], [0.7777777777777778, \"#fb9f3a\"], [0.8888888888888888, \"#fdca26\"], [1.0, \"#f0f921\"]], \"type\": \"histogram2d\"}], \"histogram2dcontour\": [{\"colorbar\": {\"outlinewidth\": 0, \"ticks\": \"\"}, \"colorscale\": [[0.0, \"#0d0887\"], [0.1111111111111111, \"#46039f\"], [0.2222222222222222, \"#7201a8\"], [0.3333333333333333, \"#9c179e\"], [0.4444444444444444, \"#bd3786\"], [0.5555555555555556, \"#d8576b\"], [0.6666666666666666, \"#ed7953\"], [0.7777777777777778, \"#fb9f3a\"], [0.8888888888888888, \"#fdca26\"], [1.0, \"#f0f921\"]], \"type\": \"histogram2dcontour\"}], \"mesh3d\": [{\"colorbar\": {\"outlinewidth\": 0, \"ticks\": \"\"}, \"type\": \"mesh3d\"}], \"parcoords\": [{\"line\": {\"colorbar\": {\"outlinewidth\": 0, \"ticks\": \"\"}}, \"type\": \"parcoords\"}], \"pie\": [{\"automargin\": true, \"type\": \"pie\"}], \"scatter\": [{\"marker\": {\"colorbar\": {\"outlinewidth\": 0, \"ticks\": \"\"}}, \"type\": \"scatter\"}], \"scatter3d\": [{\"line\": {\"colorbar\": {\"outlinewidth\": 0, \"ticks\": \"\"}}, \"marker\": {\"colorbar\": {\"outlinewidth\": 0, \"ticks\": \"\"}}, \"type\": \"scatter3d\"}], \"scattercarpet\": [{\"marker\": {\"colorbar\": {\"outlinewidth\": 0, \"ticks\": \"\"}}, \"type\": \"scattercarpet\"}], \"scattergeo\": [{\"marker\": {\"colorbar\": {\"outlinewidth\": 0, \"ticks\": \"\"}}, \"type\": \"scattergeo\"}], \"scattergl\": [{\"marker\": {\"colorbar\": {\"outlinewidth\": 0, \"ticks\": \"\"}}, \"type\": \"scattergl\"}], \"scattermapbox\": [{\"marker\": {\"colorbar\": {\"outlinewidth\": 0, \"ticks\": \"\"}}, \"type\": \"scattermapbox\"}], \"scatterpolar\": [{\"marker\": {\"colorbar\": {\"outlinewidth\": 0, \"ticks\": \"\"}}, \"type\": \"scatterpolar\"}], \"scatterpolargl\": [{\"marker\": {\"colorbar\": {\"outlinewidth\": 0, \"ticks\": \"\"}}, \"type\": \"scatterpolargl\"}], \"scatterternary\": [{\"marker\": {\"colorbar\": {\"outlinewidth\": 0, \"ticks\": \"\"}}, \"type\": \"scatterternary\"}], \"surface\": [{\"colorbar\": {\"outlinewidth\": 0, \"ticks\": \"\"}, \"colorscale\": [[0.0, \"#0d0887\"], [0.1111111111111111, \"#46039f\"], [0.2222222222222222, \"#7201a8\"], [0.3333333333333333, \"#9c179e\"], [0.4444444444444444, \"#bd3786\"], [0.5555555555555556, \"#d8576b\"], [0.6666666666666666, \"#ed7953\"], [0.7777777777777778, \"#fb9f3a\"], [0.8888888888888888, \"#fdca26\"], [1.0, \"#f0f921\"]], \"type\": \"surface\"}], \"table\": [{\"cells\": {\"fill\": {\"color\": \"#EBF0F8\"}, \"line\": {\"color\": \"white\"}}, \"header\": {\"fill\": {\"color\": \"#C8D4E3\"}, \"line\": {\"color\": \"white\"}}, \"type\": \"table\"}]}, \"layout\": {\"annotationdefaults\": {\"arrowcolor\": \"#2a3f5f\", \"arrowhead\": 0, \"arrowwidth\": 1}, \"coloraxis\": {\"colorbar\": {\"outlinewidth\": 0, \"ticks\": \"\"}}, \"colorscale\": {\"diverging\": [[0, \"#8e0152\"], [0.1, \"#c51b7d\"], [0.2, \"#de77ae\"], [0.3, \"#f1b6da\"], [0.4, \"#fde0ef\"], [0.5, \"#f7f7f7\"], [0.6, \"#e6f5d0\"], [0.7, \"#b8e186\"], [0.8, \"#7fbc41\"], [0.9, \"#4d9221\"], [1, \"#276419\"]], \"sequential\": [[0.0, \"#0d0887\"], [0.1111111111111111, \"#46039f\"], [0.2222222222222222, \"#7201a8\"], [0.3333333333333333, \"#9c179e\"], [0.4444444444444444, \"#bd3786\"], [0.5555555555555556, \"#d8576b\"], [0.6666666666666666, \"#ed7953\"], [0.7777777777777778, \"#fb9f3a\"], [0.8888888888888888, \"#fdca26\"], [1.0, \"#f0f921\"]], \"sequentialminus\": [[0.0, \"#0d0887\"], [0.1111111111111111, \"#46039f\"], [0.2222222222222222, \"#7201a8\"], [0.3333333333333333, \"#9c179e\"], [0.4444444444444444, \"#bd3786\"], [0.5555555555555556, \"#d8576b\"], [0.6666666666666666, \"#ed7953\"], [0.7777777777777778, \"#fb9f3a\"], [0.8888888888888888, \"#fdca26\"], [1.0, \"#f0f921\"]]}, \"colorway\": [\"#636efa\", \"#EF553B\", \"#00cc96\", \"#ab63fa\", \"#FFA15A\", \"#19d3f3\", \"#FF6692\", \"#B6E880\", \"#FF97FF\", \"#FECB52\"], \"font\": {\"color\": \"#2a3f5f\"}, \"geo\": {\"bgcolor\": \"white\", \"lakecolor\": \"white\", \"landcolor\": \"#E5ECF6\", \"showlakes\": true, \"showland\": true, \"subunitcolor\": \"white\"}, \"hoverlabel\": {\"align\": \"left\"}, \"hovermode\": \"closest\", \"mapbox\": {\"style\": \"light\"}, \"paper_bgcolor\": \"white\", \"plot_bgcolor\": \"#E5ECF6\", \"polar\": {\"angularaxis\": {\"gridcolor\": \"white\", \"linecolor\": \"white\", \"ticks\": \"\"}, \"bgcolor\": \"#E5ECF6\", \"radialaxis\": {\"gridcolor\": \"white\", \"linecolor\": \"white\", \"ticks\": \"\"}}, \"scene\": {\"xaxis\": {\"backgroundcolor\": \"#E5ECF6\", \"gridcolor\": \"white\", \"gridwidth\": 2, \"linecolor\": \"white\", \"showbackground\": true, \"ticks\": \"\", \"zerolinecolor\": \"white\"}, \"yaxis\": {\"backgroundcolor\": \"#E5ECF6\", \"gridcolor\": \"white\", \"gridwidth\": 2, \"linecolor\": \"white\", \"showbackground\": true, \"ticks\": \"\", \"zerolinecolor\": \"white\"}, \"zaxis\": {\"backgroundcolor\": \"#E5ECF6\", \"gridcolor\": \"white\", \"gridwidth\": 2, \"linecolor\": \"white\", \"showbackground\": true, \"ticks\": \"\", \"zerolinecolor\": \"white\"}}, \"shapedefaults\": {\"line\": {\"color\": \"#2a3f5f\"}}, \"ternary\": {\"aaxis\": {\"gridcolor\": \"white\", \"linecolor\": \"white\", \"ticks\": \"\"}, \"baxis\": {\"gridcolor\": \"white\", \"linecolor\": \"white\", \"ticks\": \"\"}, \"bgcolor\": \"#E5ECF6\", \"caxis\": {\"gridcolor\": \"white\", \"linecolor\": \"white\", \"ticks\": \"\"}}, \"title\": {\"x\": 0.05}, \"xaxis\": {\"automargin\": true, \"gridcolor\": \"white\", \"linecolor\": \"white\", \"ticks\": \"\", \"title\": {\"standoff\": 15}, \"zerolinecolor\": \"white\", \"zerolinewidth\": 2}, \"yaxis\": {\"automargin\": true, \"gridcolor\": \"white\", \"linecolor\": \"white\", \"ticks\": \"\", \"title\": {\"standoff\": 15}, \"zerolinecolor\": \"white\", \"zerolinewidth\": 2}}}, \"xaxis\": {\"anchor\": \"y\", \"domain\": [0.0, 1.0], \"title\": {\"text\": \"Year\"}}, \"yaxis\": {\"anchor\": \"x\", \"domain\": [0.0, 1.0], \"title\": {\"text\": \"Percent\"}}},                        {\"responsive\": true}                    ).then(function(){\n",
       "                            \n",
       "var gd = document.getElementById('bbe9c30e-d5c2-4dad-a0b9-cbe1101ae6b4');\n",
       "var x = new MutationObserver(function (mutations, observer) {{\n",
       "        var display = window.getComputedStyle(gd).display;\n",
       "        if (!display || display === 'none') {{\n",
       "            console.log([gd, 'removed!']);\n",
       "            Plotly.purge(gd);\n",
       "            observer.disconnect();\n",
       "        }}\n",
       "}});\n",
       "\n",
       "// Listen for the removal of the full notebook cells\n",
       "var notebookContainer = gd.closest('#notebook-container');\n",
       "if (notebookContainer) {{\n",
       "    x.observe(notebookContainer, {childList: true});\n",
       "}}\n",
       "\n",
       "// Listen for the clearing of the current output cell\n",
       "var outputEl = gd.closest('.output');\n",
       "if (outputEl) {{\n",
       "    x.observe(outputEl, {childList: true});\n",
       "}}\n",
       "\n",
       "                        })                };                });            </script>        </div>"
      ]
     },
     "metadata": {},
     "output_type": "display_data"
    }
   ],
   "source": [
    "px.line(asdf, x='Year', y='Percent', color='Course Name')"
   ]
  },
  {
   "cell_type": "code",
   "execution_count": 16,
   "metadata": {},
   "outputs": [
    {
     "data": {
      "application/vnd.plotly.v1+json": {
       "config": {
        "plotlyServerURL": "https://plot.ly"
       },
       "data": [
        {
         "hovertemplate": "variable=English Language Arts 6<br>index=%{x}<br>value=%{y}<extra></extra>",
         "legendgroup": "English Language Arts 6",
         "line": {
          "color": "#636efa",
          "dash": "solid"
         },
         "mode": "lines",
         "name": "English Language Arts 6",
         "orientation": "v",
         "showlegend": true,
         "type": "scatter",
         "x": [
          "2015 Sch % Acc of Writing",
          "2016 Sch % Acc of Writing",
          "2017 Sch % Acc of Writing",
          "2018 Sch % Acc of Writing",
          "2019 Sch % Acc of Writing"
         ],
         "xaxis": "x",
         "y": [
          96,
          92.9,
          90.2,
          97.4,
          97.9
         ],
         "yaxis": "y"
        }
       ],
       "layout": {
        "legend": {
         "title": {
          "text": "variable"
         },
         "tracegroupgap": 0
        },
        "margin": {
         "t": 60
        },
        "template": {
         "data": {
          "bar": [
           {
            "error_x": {
             "color": "#2a3f5f"
            },
            "error_y": {
             "color": "#2a3f5f"
            },
            "marker": {
             "line": {
              "color": "#E5ECF6",
              "width": 0.5
             }
            },
            "type": "bar"
           }
          ],
          "barpolar": [
           {
            "marker": {
             "line": {
              "color": "#E5ECF6",
              "width": 0.5
             }
            },
            "type": "barpolar"
           }
          ],
          "carpet": [
           {
            "aaxis": {
             "endlinecolor": "#2a3f5f",
             "gridcolor": "white",
             "linecolor": "white",
             "minorgridcolor": "white",
             "startlinecolor": "#2a3f5f"
            },
            "baxis": {
             "endlinecolor": "#2a3f5f",
             "gridcolor": "white",
             "linecolor": "white",
             "minorgridcolor": "white",
             "startlinecolor": "#2a3f5f"
            },
            "type": "carpet"
           }
          ],
          "choropleth": [
           {
            "colorbar": {
             "outlinewidth": 0,
             "ticks": ""
            },
            "type": "choropleth"
           }
          ],
          "contour": [
           {
            "colorbar": {
             "outlinewidth": 0,
             "ticks": ""
            },
            "colorscale": [
             [
              0,
              "#0d0887"
             ],
             [
              0.1111111111111111,
              "#46039f"
             ],
             [
              0.2222222222222222,
              "#7201a8"
             ],
             [
              0.3333333333333333,
              "#9c179e"
             ],
             [
              0.4444444444444444,
              "#bd3786"
             ],
             [
              0.5555555555555556,
              "#d8576b"
             ],
             [
              0.6666666666666666,
              "#ed7953"
             ],
             [
              0.7777777777777778,
              "#fb9f3a"
             ],
             [
              0.8888888888888888,
              "#fdca26"
             ],
             [
              1,
              "#f0f921"
             ]
            ],
            "type": "contour"
           }
          ],
          "contourcarpet": [
           {
            "colorbar": {
             "outlinewidth": 0,
             "ticks": ""
            },
            "type": "contourcarpet"
           }
          ],
          "heatmap": [
           {
            "colorbar": {
             "outlinewidth": 0,
             "ticks": ""
            },
            "colorscale": [
             [
              0,
              "#0d0887"
             ],
             [
              0.1111111111111111,
              "#46039f"
             ],
             [
              0.2222222222222222,
              "#7201a8"
             ],
             [
              0.3333333333333333,
              "#9c179e"
             ],
             [
              0.4444444444444444,
              "#bd3786"
             ],
             [
              0.5555555555555556,
              "#d8576b"
             ],
             [
              0.6666666666666666,
              "#ed7953"
             ],
             [
              0.7777777777777778,
              "#fb9f3a"
             ],
             [
              0.8888888888888888,
              "#fdca26"
             ],
             [
              1,
              "#f0f921"
             ]
            ],
            "type": "heatmap"
           }
          ],
          "heatmapgl": [
           {
            "colorbar": {
             "outlinewidth": 0,
             "ticks": ""
            },
            "colorscale": [
             [
              0,
              "#0d0887"
             ],
             [
              0.1111111111111111,
              "#46039f"
             ],
             [
              0.2222222222222222,
              "#7201a8"
             ],
             [
              0.3333333333333333,
              "#9c179e"
             ],
             [
              0.4444444444444444,
              "#bd3786"
             ],
             [
              0.5555555555555556,
              "#d8576b"
             ],
             [
              0.6666666666666666,
              "#ed7953"
             ],
             [
              0.7777777777777778,
              "#fb9f3a"
             ],
             [
              0.8888888888888888,
              "#fdca26"
             ],
             [
              1,
              "#f0f921"
             ]
            ],
            "type": "heatmapgl"
           }
          ],
          "histogram": [
           {
            "marker": {
             "colorbar": {
              "outlinewidth": 0,
              "ticks": ""
             }
            },
            "type": "histogram"
           }
          ],
          "histogram2d": [
           {
            "colorbar": {
             "outlinewidth": 0,
             "ticks": ""
            },
            "colorscale": [
             [
              0,
              "#0d0887"
             ],
             [
              0.1111111111111111,
              "#46039f"
             ],
             [
              0.2222222222222222,
              "#7201a8"
             ],
             [
              0.3333333333333333,
              "#9c179e"
             ],
             [
              0.4444444444444444,
              "#bd3786"
             ],
             [
              0.5555555555555556,
              "#d8576b"
             ],
             [
              0.6666666666666666,
              "#ed7953"
             ],
             [
              0.7777777777777778,
              "#fb9f3a"
             ],
             [
              0.8888888888888888,
              "#fdca26"
             ],
             [
              1,
              "#f0f921"
             ]
            ],
            "type": "histogram2d"
           }
          ],
          "histogram2dcontour": [
           {
            "colorbar": {
             "outlinewidth": 0,
             "ticks": ""
            },
            "colorscale": [
             [
              0,
              "#0d0887"
             ],
             [
              0.1111111111111111,
              "#46039f"
             ],
             [
              0.2222222222222222,
              "#7201a8"
             ],
             [
              0.3333333333333333,
              "#9c179e"
             ],
             [
              0.4444444444444444,
              "#bd3786"
             ],
             [
              0.5555555555555556,
              "#d8576b"
             ],
             [
              0.6666666666666666,
              "#ed7953"
             ],
             [
              0.7777777777777778,
              "#fb9f3a"
             ],
             [
              0.8888888888888888,
              "#fdca26"
             ],
             [
              1,
              "#f0f921"
             ]
            ],
            "type": "histogram2dcontour"
           }
          ],
          "mesh3d": [
           {
            "colorbar": {
             "outlinewidth": 0,
             "ticks": ""
            },
            "type": "mesh3d"
           }
          ],
          "parcoords": [
           {
            "line": {
             "colorbar": {
              "outlinewidth": 0,
              "ticks": ""
             }
            },
            "type": "parcoords"
           }
          ],
          "pie": [
           {
            "automargin": true,
            "type": "pie"
           }
          ],
          "scatter": [
           {
            "marker": {
             "colorbar": {
              "outlinewidth": 0,
              "ticks": ""
             }
            },
            "type": "scatter"
           }
          ],
          "scatter3d": [
           {
            "line": {
             "colorbar": {
              "outlinewidth": 0,
              "ticks": ""
             }
            },
            "marker": {
             "colorbar": {
              "outlinewidth": 0,
              "ticks": ""
             }
            },
            "type": "scatter3d"
           }
          ],
          "scattercarpet": [
           {
            "marker": {
             "colorbar": {
              "outlinewidth": 0,
              "ticks": ""
             }
            },
            "type": "scattercarpet"
           }
          ],
          "scattergeo": [
           {
            "marker": {
             "colorbar": {
              "outlinewidth": 0,
              "ticks": ""
             }
            },
            "type": "scattergeo"
           }
          ],
          "scattergl": [
           {
            "marker": {
             "colorbar": {
              "outlinewidth": 0,
              "ticks": ""
             }
            },
            "type": "scattergl"
           }
          ],
          "scattermapbox": [
           {
            "marker": {
             "colorbar": {
              "outlinewidth": 0,
              "ticks": ""
             }
            },
            "type": "scattermapbox"
           }
          ],
          "scatterpolar": [
           {
            "marker": {
             "colorbar": {
              "outlinewidth": 0,
              "ticks": ""
             }
            },
            "type": "scatterpolar"
           }
          ],
          "scatterpolargl": [
           {
            "marker": {
             "colorbar": {
              "outlinewidth": 0,
              "ticks": ""
             }
            },
            "type": "scatterpolargl"
           }
          ],
          "scatterternary": [
           {
            "marker": {
             "colorbar": {
              "outlinewidth": 0,
              "ticks": ""
             }
            },
            "type": "scatterternary"
           }
          ],
          "surface": [
           {
            "colorbar": {
             "outlinewidth": 0,
             "ticks": ""
            },
            "colorscale": [
             [
              0,
              "#0d0887"
             ],
             [
              0.1111111111111111,
              "#46039f"
             ],
             [
              0.2222222222222222,
              "#7201a8"
             ],
             [
              0.3333333333333333,
              "#9c179e"
             ],
             [
              0.4444444444444444,
              "#bd3786"
             ],
             [
              0.5555555555555556,
              "#d8576b"
             ],
             [
              0.6666666666666666,
              "#ed7953"
             ],
             [
              0.7777777777777778,
              "#fb9f3a"
             ],
             [
              0.8888888888888888,
              "#fdca26"
             ],
             [
              1,
              "#f0f921"
             ]
            ],
            "type": "surface"
           }
          ],
          "table": [
           {
            "cells": {
             "fill": {
              "color": "#EBF0F8"
             },
             "line": {
              "color": "white"
             }
            },
            "header": {
             "fill": {
              "color": "#C8D4E3"
             },
             "line": {
              "color": "white"
             }
            },
            "type": "table"
           }
          ]
         },
         "layout": {
          "annotationdefaults": {
           "arrowcolor": "#2a3f5f",
           "arrowhead": 0,
           "arrowwidth": 1
          },
          "coloraxis": {
           "colorbar": {
            "outlinewidth": 0,
            "ticks": ""
           }
          },
          "colorscale": {
           "diverging": [
            [
             0,
             "#8e0152"
            ],
            [
             0.1,
             "#c51b7d"
            ],
            [
             0.2,
             "#de77ae"
            ],
            [
             0.3,
             "#f1b6da"
            ],
            [
             0.4,
             "#fde0ef"
            ],
            [
             0.5,
             "#f7f7f7"
            ],
            [
             0.6,
             "#e6f5d0"
            ],
            [
             0.7,
             "#b8e186"
            ],
            [
             0.8,
             "#7fbc41"
            ],
            [
             0.9,
             "#4d9221"
            ],
            [
             1,
             "#276419"
            ]
           ],
           "sequential": [
            [
             0,
             "#0d0887"
            ],
            [
             0.1111111111111111,
             "#46039f"
            ],
            [
             0.2222222222222222,
             "#7201a8"
            ],
            [
             0.3333333333333333,
             "#9c179e"
            ],
            [
             0.4444444444444444,
             "#bd3786"
            ],
            [
             0.5555555555555556,
             "#d8576b"
            ],
            [
             0.6666666666666666,
             "#ed7953"
            ],
            [
             0.7777777777777778,
             "#fb9f3a"
            ],
            [
             0.8888888888888888,
             "#fdca26"
            ],
            [
             1,
             "#f0f921"
            ]
           ],
           "sequentialminus": [
            [
             0,
             "#0d0887"
            ],
            [
             0.1111111111111111,
             "#46039f"
            ],
            [
             0.2222222222222222,
             "#7201a8"
            ],
            [
             0.3333333333333333,
             "#9c179e"
            ],
            [
             0.4444444444444444,
             "#bd3786"
            ],
            [
             0.5555555555555556,
             "#d8576b"
            ],
            [
             0.6666666666666666,
             "#ed7953"
            ],
            [
             0.7777777777777778,
             "#fb9f3a"
            ],
            [
             0.8888888888888888,
             "#fdca26"
            ],
            [
             1,
             "#f0f921"
            ]
           ]
          },
          "colorway": [
           "#636efa",
           "#EF553B",
           "#00cc96",
           "#ab63fa",
           "#FFA15A",
           "#19d3f3",
           "#FF6692",
           "#B6E880",
           "#FF97FF",
           "#FECB52"
          ],
          "font": {
           "color": "#2a3f5f"
          },
          "geo": {
           "bgcolor": "white",
           "lakecolor": "white",
           "landcolor": "#E5ECF6",
           "showlakes": true,
           "showland": true,
           "subunitcolor": "white"
          },
          "hoverlabel": {
           "align": "left"
          },
          "hovermode": "closest",
          "mapbox": {
           "style": "light"
          },
          "paper_bgcolor": "white",
          "plot_bgcolor": "#E5ECF6",
          "polar": {
           "angularaxis": {
            "gridcolor": "white",
            "linecolor": "white",
            "ticks": ""
           },
           "bgcolor": "#E5ECF6",
           "radialaxis": {
            "gridcolor": "white",
            "linecolor": "white",
            "ticks": ""
           }
          },
          "scene": {
           "xaxis": {
            "backgroundcolor": "#E5ECF6",
            "gridcolor": "white",
            "gridwidth": 2,
            "linecolor": "white",
            "showbackground": true,
            "ticks": "",
            "zerolinecolor": "white"
           },
           "yaxis": {
            "backgroundcolor": "#E5ECF6",
            "gridcolor": "white",
            "gridwidth": 2,
            "linecolor": "white",
            "showbackground": true,
            "ticks": "",
            "zerolinecolor": "white"
           },
           "zaxis": {
            "backgroundcolor": "#E5ECF6",
            "gridcolor": "white",
            "gridwidth": 2,
            "linecolor": "white",
            "showbackground": true,
            "ticks": "",
            "zerolinecolor": "white"
           }
          },
          "shapedefaults": {
           "line": {
            "color": "#2a3f5f"
           }
          },
          "ternary": {
           "aaxis": {
            "gridcolor": "white",
            "linecolor": "white",
            "ticks": ""
           },
           "baxis": {
            "gridcolor": "white",
            "linecolor": "white",
            "ticks": ""
           },
           "bgcolor": "#E5ECF6",
           "caxis": {
            "gridcolor": "white",
            "linecolor": "white",
            "ticks": ""
           }
          },
          "title": {
           "x": 0.05
          },
          "xaxis": {
           "automargin": true,
           "gridcolor": "white",
           "linecolor": "white",
           "ticks": "",
           "title": {
            "standoff": 15
           },
           "zerolinecolor": "white",
           "zerolinewidth": 2
          },
          "yaxis": {
           "automargin": true,
           "gridcolor": "white",
           "linecolor": "white",
           "ticks": "",
           "title": {
            "standoff": 15
           },
           "zerolinecolor": "white",
           "zerolinewidth": 2
          }
         }
        },
        "xaxis": {
         "anchor": "y",
         "domain": [
          0,
          1
         ],
         "title": {
          "text": "index"
         }
        },
        "yaxis": {
         "anchor": "x",
         "domain": [
          0,
          1
         ],
         "title": {
          "text": "value"
         }
        }
       }
      },
      "text/html": [
       "<div>                            <div id=\"e16b5c55-a3c5-4435-9368-2901ad1bf01f\" class=\"plotly-graph-div\" style=\"height:525px; width:100%;\"></div>            <script type=\"text/javascript\">                require([\"plotly\"], function(Plotly) {                    window.PLOTLYENV=window.PLOTLYENV || {};                                    if (document.getElementById(\"e16b5c55-a3c5-4435-9368-2901ad1bf01f\")) {                    Plotly.newPlot(                        \"e16b5c55-a3c5-4435-9368-2901ad1bf01f\",                        [{\"hovertemplate\": \"variable=English Language Arts 6<br>index=%{x}<br>value=%{y}<extra></extra>\", \"legendgroup\": \"English Language Arts 6\", \"line\": {\"color\": \"#636efa\", \"dash\": \"solid\"}, \"mode\": \"lines\", \"name\": \"English Language Arts 6\", \"orientation\": \"v\", \"showlegend\": true, \"type\": \"scatter\", \"x\": [\"2015 Sch % Acc of Writing\", \"2016 Sch % Acc of Writing\", \"2017 Sch % Acc of Writing\", \"2018 Sch % Acc of Writing\", \"2019 Sch % Acc of Writing\"], \"xaxis\": \"x\", \"y\": [96.0, 92.9, 90.2, 97.4, 97.9], \"yaxis\": \"y\"}],                        {\"legend\": {\"title\": {\"text\": \"variable\"}, \"tracegroupgap\": 0}, \"margin\": {\"t\": 60}, \"template\": {\"data\": {\"bar\": [{\"error_x\": {\"color\": \"#2a3f5f\"}, \"error_y\": {\"color\": \"#2a3f5f\"}, \"marker\": {\"line\": {\"color\": \"#E5ECF6\", \"width\": 0.5}}, \"type\": \"bar\"}], \"barpolar\": [{\"marker\": {\"line\": {\"color\": \"#E5ECF6\", \"width\": 0.5}}, \"type\": \"barpolar\"}], \"carpet\": [{\"aaxis\": {\"endlinecolor\": \"#2a3f5f\", \"gridcolor\": \"white\", \"linecolor\": \"white\", \"minorgridcolor\": \"white\", \"startlinecolor\": \"#2a3f5f\"}, \"baxis\": {\"endlinecolor\": \"#2a3f5f\", \"gridcolor\": \"white\", \"linecolor\": \"white\", \"minorgridcolor\": \"white\", \"startlinecolor\": \"#2a3f5f\"}, \"type\": \"carpet\"}], \"choropleth\": [{\"colorbar\": {\"outlinewidth\": 0, \"ticks\": \"\"}, \"type\": \"choropleth\"}], \"contour\": [{\"colorbar\": {\"outlinewidth\": 0, \"ticks\": \"\"}, \"colorscale\": [[0.0, \"#0d0887\"], [0.1111111111111111, \"#46039f\"], [0.2222222222222222, \"#7201a8\"], [0.3333333333333333, \"#9c179e\"], [0.4444444444444444, \"#bd3786\"], [0.5555555555555556, \"#d8576b\"], [0.6666666666666666, \"#ed7953\"], [0.7777777777777778, \"#fb9f3a\"], [0.8888888888888888, \"#fdca26\"], [1.0, \"#f0f921\"]], \"type\": \"contour\"}], \"contourcarpet\": [{\"colorbar\": {\"outlinewidth\": 0, \"ticks\": \"\"}, \"type\": \"contourcarpet\"}], \"heatmap\": [{\"colorbar\": {\"outlinewidth\": 0, \"ticks\": \"\"}, \"colorscale\": [[0.0, \"#0d0887\"], [0.1111111111111111, \"#46039f\"], [0.2222222222222222, \"#7201a8\"], [0.3333333333333333, \"#9c179e\"], [0.4444444444444444, \"#bd3786\"], [0.5555555555555556, \"#d8576b\"], [0.6666666666666666, \"#ed7953\"], [0.7777777777777778, \"#fb9f3a\"], [0.8888888888888888, \"#fdca26\"], [1.0, \"#f0f921\"]], \"type\": \"heatmap\"}], \"heatmapgl\": [{\"colorbar\": {\"outlinewidth\": 0, \"ticks\": \"\"}, \"colorscale\": [[0.0, \"#0d0887\"], [0.1111111111111111, \"#46039f\"], [0.2222222222222222, \"#7201a8\"], [0.3333333333333333, \"#9c179e\"], [0.4444444444444444, \"#bd3786\"], [0.5555555555555556, \"#d8576b\"], [0.6666666666666666, \"#ed7953\"], [0.7777777777777778, \"#fb9f3a\"], [0.8888888888888888, \"#fdca26\"], [1.0, \"#f0f921\"]], \"type\": \"heatmapgl\"}], \"histogram\": [{\"marker\": {\"colorbar\": {\"outlinewidth\": 0, \"ticks\": \"\"}}, \"type\": \"histogram\"}], \"histogram2d\": [{\"colorbar\": {\"outlinewidth\": 0, \"ticks\": \"\"}, \"colorscale\": [[0.0, \"#0d0887\"], [0.1111111111111111, \"#46039f\"], [0.2222222222222222, \"#7201a8\"], [0.3333333333333333, \"#9c179e\"], [0.4444444444444444, \"#bd3786\"], [0.5555555555555556, \"#d8576b\"], [0.6666666666666666, \"#ed7953\"], [0.7777777777777778, \"#fb9f3a\"], [0.8888888888888888, \"#fdca26\"], [1.0, \"#f0f921\"]], \"type\": \"histogram2d\"}], \"histogram2dcontour\": [{\"colorbar\": {\"outlinewidth\": 0, \"ticks\": \"\"}, \"colorscale\": [[0.0, \"#0d0887\"], [0.1111111111111111, \"#46039f\"], [0.2222222222222222, \"#7201a8\"], [0.3333333333333333, \"#9c179e\"], [0.4444444444444444, \"#bd3786\"], [0.5555555555555556, \"#d8576b\"], [0.6666666666666666, \"#ed7953\"], [0.7777777777777778, \"#fb9f3a\"], [0.8888888888888888, \"#fdca26\"], [1.0, \"#f0f921\"]], \"type\": \"histogram2dcontour\"}], \"mesh3d\": [{\"colorbar\": {\"outlinewidth\": 0, \"ticks\": \"\"}, \"type\": \"mesh3d\"}], \"parcoords\": [{\"line\": {\"colorbar\": {\"outlinewidth\": 0, \"ticks\": \"\"}}, \"type\": \"parcoords\"}], \"pie\": [{\"automargin\": true, \"type\": \"pie\"}], \"scatter\": [{\"marker\": {\"colorbar\": {\"outlinewidth\": 0, \"ticks\": \"\"}}, \"type\": \"scatter\"}], \"scatter3d\": [{\"line\": {\"colorbar\": {\"outlinewidth\": 0, \"ticks\": \"\"}}, \"marker\": {\"colorbar\": {\"outlinewidth\": 0, \"ticks\": \"\"}}, \"type\": \"scatter3d\"}], \"scattercarpet\": [{\"marker\": {\"colorbar\": {\"outlinewidth\": 0, \"ticks\": \"\"}}, \"type\": \"scattercarpet\"}], \"scattergeo\": [{\"marker\": {\"colorbar\": {\"outlinewidth\": 0, \"ticks\": \"\"}}, \"type\": \"scattergeo\"}], \"scattergl\": [{\"marker\": {\"colorbar\": {\"outlinewidth\": 0, \"ticks\": \"\"}}, \"type\": \"scattergl\"}], \"scattermapbox\": [{\"marker\": {\"colorbar\": {\"outlinewidth\": 0, \"ticks\": \"\"}}, \"type\": \"scattermapbox\"}], \"scatterpolar\": [{\"marker\": {\"colorbar\": {\"outlinewidth\": 0, \"ticks\": \"\"}}, \"type\": \"scatterpolar\"}], \"scatterpolargl\": [{\"marker\": {\"colorbar\": {\"outlinewidth\": 0, \"ticks\": \"\"}}, \"type\": \"scatterpolargl\"}], \"scatterternary\": [{\"marker\": {\"colorbar\": {\"outlinewidth\": 0, \"ticks\": \"\"}}, \"type\": \"scatterternary\"}], \"surface\": [{\"colorbar\": {\"outlinewidth\": 0, \"ticks\": \"\"}, \"colorscale\": [[0.0, \"#0d0887\"], [0.1111111111111111, \"#46039f\"], [0.2222222222222222, \"#7201a8\"], [0.3333333333333333, \"#9c179e\"], [0.4444444444444444, \"#bd3786\"], [0.5555555555555556, \"#d8576b\"], [0.6666666666666666, \"#ed7953\"], [0.7777777777777778, \"#fb9f3a\"], [0.8888888888888888, \"#fdca26\"], [1.0, \"#f0f921\"]], \"type\": \"surface\"}], \"table\": [{\"cells\": {\"fill\": {\"color\": \"#EBF0F8\"}, \"line\": {\"color\": \"white\"}}, \"header\": {\"fill\": {\"color\": \"#C8D4E3\"}, \"line\": {\"color\": \"white\"}}, \"type\": \"table\"}]}, \"layout\": {\"annotationdefaults\": {\"arrowcolor\": \"#2a3f5f\", \"arrowhead\": 0, \"arrowwidth\": 1}, \"coloraxis\": {\"colorbar\": {\"outlinewidth\": 0, \"ticks\": \"\"}}, \"colorscale\": {\"diverging\": [[0, \"#8e0152\"], [0.1, \"#c51b7d\"], [0.2, \"#de77ae\"], [0.3, \"#f1b6da\"], [0.4, \"#fde0ef\"], [0.5, \"#f7f7f7\"], [0.6, \"#e6f5d0\"], [0.7, \"#b8e186\"], [0.8, \"#7fbc41\"], [0.9, \"#4d9221\"], [1, \"#276419\"]], \"sequential\": [[0.0, \"#0d0887\"], [0.1111111111111111, \"#46039f\"], [0.2222222222222222, \"#7201a8\"], [0.3333333333333333, \"#9c179e\"], [0.4444444444444444, \"#bd3786\"], [0.5555555555555556, \"#d8576b\"], [0.6666666666666666, \"#ed7953\"], [0.7777777777777778, \"#fb9f3a\"], [0.8888888888888888, \"#fdca26\"], [1.0, \"#f0f921\"]], \"sequentialminus\": [[0.0, \"#0d0887\"], [0.1111111111111111, \"#46039f\"], [0.2222222222222222, \"#7201a8\"], [0.3333333333333333, \"#9c179e\"], [0.4444444444444444, \"#bd3786\"], [0.5555555555555556, \"#d8576b\"], [0.6666666666666666, \"#ed7953\"], [0.7777777777777778, \"#fb9f3a\"], [0.8888888888888888, \"#fdca26\"], [1.0, \"#f0f921\"]]}, \"colorway\": [\"#636efa\", \"#EF553B\", \"#00cc96\", \"#ab63fa\", \"#FFA15A\", \"#19d3f3\", \"#FF6692\", \"#B6E880\", \"#FF97FF\", \"#FECB52\"], \"font\": {\"color\": \"#2a3f5f\"}, \"geo\": {\"bgcolor\": \"white\", \"lakecolor\": \"white\", \"landcolor\": \"#E5ECF6\", \"showlakes\": true, \"showland\": true, \"subunitcolor\": \"white\"}, \"hoverlabel\": {\"align\": \"left\"}, \"hovermode\": \"closest\", \"mapbox\": {\"style\": \"light\"}, \"paper_bgcolor\": \"white\", \"plot_bgcolor\": \"#E5ECF6\", \"polar\": {\"angularaxis\": {\"gridcolor\": \"white\", \"linecolor\": \"white\", \"ticks\": \"\"}, \"bgcolor\": \"#E5ECF6\", \"radialaxis\": {\"gridcolor\": \"white\", \"linecolor\": \"white\", \"ticks\": \"\"}}, \"scene\": {\"xaxis\": {\"backgroundcolor\": \"#E5ECF6\", \"gridcolor\": \"white\", \"gridwidth\": 2, \"linecolor\": \"white\", \"showbackground\": true, \"ticks\": \"\", \"zerolinecolor\": \"white\"}, \"yaxis\": {\"backgroundcolor\": \"#E5ECF6\", \"gridcolor\": \"white\", \"gridwidth\": 2, \"linecolor\": \"white\", \"showbackground\": true, \"ticks\": \"\", \"zerolinecolor\": \"white\"}, \"zaxis\": {\"backgroundcolor\": \"#E5ECF6\", \"gridcolor\": \"white\", \"gridwidth\": 2, \"linecolor\": \"white\", \"showbackground\": true, \"ticks\": \"\", \"zerolinecolor\": \"white\"}}, \"shapedefaults\": {\"line\": {\"color\": \"#2a3f5f\"}}, \"ternary\": {\"aaxis\": {\"gridcolor\": \"white\", \"linecolor\": \"white\", \"ticks\": \"\"}, \"baxis\": {\"gridcolor\": \"white\", \"linecolor\": \"white\", \"ticks\": \"\"}, \"bgcolor\": \"#E5ECF6\", \"caxis\": {\"gridcolor\": \"white\", \"linecolor\": \"white\", \"ticks\": \"\"}}, \"title\": {\"x\": 0.05}, \"xaxis\": {\"automargin\": true, \"gridcolor\": \"white\", \"linecolor\": \"white\", \"ticks\": \"\", \"title\": {\"standoff\": 15}, \"zerolinecolor\": \"white\", \"zerolinewidth\": 2}, \"yaxis\": {\"automargin\": true, \"gridcolor\": \"white\", \"linecolor\": \"white\", \"ticks\": \"\", \"title\": {\"standoff\": 15}, \"zerolinecolor\": \"white\", \"zerolinewidth\": 2}}}, \"xaxis\": {\"anchor\": \"y\", \"domain\": [0.0, 1.0], \"title\": {\"text\": \"index\"}}, \"yaxis\": {\"anchor\": \"x\", \"domain\": [0.0, 1.0], \"title\": {\"text\": \"value\"}}},                        {\"responsive\": true}                    ).then(function(){\n",
       "                            \n",
       "var gd = document.getElementById('e16b5c55-a3c5-4435-9368-2901ad1bf01f');\n",
       "var x = new MutationObserver(function (mutations, observer) {{\n",
       "        var display = window.getComputedStyle(gd).display;\n",
       "        if (!display || display === 'none') {{\n",
       "            console.log([gd, 'removed!']);\n",
       "            Plotly.purge(gd);\n",
       "            observer.disconnect();\n",
       "        }}\n",
       "}});\n",
       "\n",
       "// Listen for the removal of the full notebook cells\n",
       "var notebookContainer = gd.closest('#notebook-container');\n",
       "if (notebookContainer) {{\n",
       "    x.observe(notebookContainer, {childList: true});\n",
       "}}\n",
       "\n",
       "// Listen for the clearing of the current output cell\n",
       "var outputEl = gd.closest('.output');\n",
       "if (outputEl) {{\n",
       "    x.observe(outputEl, {childList: true});\n",
       "}}\n",
       "\n",
       "                        })                };                });            </script>        </div>"
      ]
     },
     "metadata": {},
     "output_type": "display_data"
    }
   ],
   "source": [
    "#px.line(sd[columns_to_graph], x=columns_to_graph[1:], color='Course Name')\n",
    "#px.line(sd[columns_to_graph], x='Course Name')\n",
    "#px.line(sd[columns_to_graph])\n",
    "#px.line(sd[columns_to_graph].iloc[0])\n",
    "px.line(sd[columns_to_graph].set_index('Course Name').iloc[0])"
   ]
  },
  {
   "cell_type": "code",
   "execution_count": 26,
   "metadata": {},
   "outputs": [
    {
     "ename": "ValueError",
     "evalue": "Plotly Express cannot process wide-form data with columns of different type.",
     "output_type": "error",
     "traceback": [
      "\u001b[0;31m---------------------------------------------------------------------------\u001b[0m",
      "\u001b[0;31mValueError\u001b[0m                                Traceback (most recent call last)",
      "\u001b[0;32m<ipython-input-26-ec9b383de49e>\u001b[0m in \u001b[0;36m<module>\u001b[0;34m\u001b[0m\n\u001b[0;32m----> 1\u001b[0;31m \u001b[0mpx\u001b[0m\u001b[0;34m.\u001b[0m\u001b[0mline\u001b[0m\u001b[0;34m(\u001b[0m\u001b[0msd\u001b[0m\u001b[0;34m[\u001b[0m\u001b[0mcolumns_to_graph\u001b[0m\u001b[0;34m]\u001b[0m\u001b[0;34m)\u001b[0m\u001b[0;34m\u001b[0m\u001b[0;34m\u001b[0m\u001b[0m\n\u001b[0m",
      "\u001b[0;32m~/opt/anaconda3/lib/python3.8/site-packages/plotly/express/_chart_types.py\u001b[0m in \u001b[0;36mline\u001b[0;34m(data_frame, x, y, line_group, color, line_dash, hover_name, hover_data, custom_data, text, facet_row, facet_col, facet_col_wrap, facet_row_spacing, facet_col_spacing, error_x, error_x_minus, error_y, error_y_minus, animation_frame, animation_group, category_orders, labels, orientation, color_discrete_sequence, color_discrete_map, line_dash_sequence, line_dash_map, log_x, log_y, range_x, range_y, line_shape, render_mode, title, template, width, height)\u001b[0m\n\u001b[1;32m    250\u001b[0m     \u001b[0ma\u001b[0m \u001b[0mpolyline\u001b[0m \u001b[0mmark\u001b[0m \u001b[0;32min\u001b[0m \u001b[0;36m2\u001b[0m\u001b[0mD\u001b[0m \u001b[0mspace\u001b[0m\u001b[0;34m.\u001b[0m\u001b[0;34m\u001b[0m\u001b[0;34m\u001b[0m\u001b[0m\n\u001b[1;32m    251\u001b[0m     \"\"\"\n\u001b[0;32m--> 252\u001b[0;31m     \u001b[0;32mreturn\u001b[0m \u001b[0mmake_figure\u001b[0m\u001b[0;34m(\u001b[0m\u001b[0margs\u001b[0m\u001b[0;34m=\u001b[0m\u001b[0mlocals\u001b[0m\u001b[0;34m(\u001b[0m\u001b[0;34m)\u001b[0m\u001b[0;34m,\u001b[0m \u001b[0mconstructor\u001b[0m\u001b[0;34m=\u001b[0m\u001b[0mgo\u001b[0m\u001b[0;34m.\u001b[0m\u001b[0mScatter\u001b[0m\u001b[0;34m)\u001b[0m\u001b[0;34m\u001b[0m\u001b[0;34m\u001b[0m\u001b[0m\n\u001b[0m\u001b[1;32m    253\u001b[0m \u001b[0;34m\u001b[0m\u001b[0m\n\u001b[1;32m    254\u001b[0m \u001b[0;34m\u001b[0m\u001b[0m\n",
      "\u001b[0;32m~/opt/anaconda3/lib/python3.8/site-packages/plotly/express/_core.py\u001b[0m in \u001b[0;36mmake_figure\u001b[0;34m(args, constructor, trace_patch, layout_patch)\u001b[0m\n\u001b[1;32m   1824\u001b[0m     \u001b[0mapply_default_cascade\u001b[0m\u001b[0;34m(\u001b[0m\u001b[0margs\u001b[0m\u001b[0;34m)\u001b[0m\u001b[0;34m\u001b[0m\u001b[0;34m\u001b[0m\u001b[0m\n\u001b[1;32m   1825\u001b[0m \u001b[0;34m\u001b[0m\u001b[0m\n\u001b[0;32m-> 1826\u001b[0;31m     \u001b[0margs\u001b[0m \u001b[0;34m=\u001b[0m \u001b[0mbuild_dataframe\u001b[0m\u001b[0;34m(\u001b[0m\u001b[0margs\u001b[0m\u001b[0;34m,\u001b[0m \u001b[0mconstructor\u001b[0m\u001b[0;34m)\u001b[0m\u001b[0;34m\u001b[0m\u001b[0;34m\u001b[0m\u001b[0m\n\u001b[0m\u001b[1;32m   1827\u001b[0m     \u001b[0;32mif\u001b[0m \u001b[0mconstructor\u001b[0m \u001b[0;32min\u001b[0m \u001b[0;34m[\u001b[0m\u001b[0mgo\u001b[0m\u001b[0;34m.\u001b[0m\u001b[0mTreemap\u001b[0m\u001b[0;34m,\u001b[0m \u001b[0mgo\u001b[0m\u001b[0;34m.\u001b[0m\u001b[0mSunburst\u001b[0m\u001b[0;34m]\u001b[0m \u001b[0;32mand\u001b[0m \u001b[0margs\u001b[0m\u001b[0;34m[\u001b[0m\u001b[0;34m\"path\"\u001b[0m\u001b[0;34m]\u001b[0m \u001b[0;32mis\u001b[0m \u001b[0;32mnot\u001b[0m \u001b[0;32mNone\u001b[0m\u001b[0;34m:\u001b[0m\u001b[0;34m\u001b[0m\u001b[0;34m\u001b[0m\u001b[0m\n\u001b[1;32m   1828\u001b[0m         \u001b[0margs\u001b[0m \u001b[0;34m=\u001b[0m \u001b[0mprocess_dataframe_hierarchy\u001b[0m\u001b[0;34m(\u001b[0m\u001b[0margs\u001b[0m\u001b[0;34m)\u001b[0m\u001b[0;34m\u001b[0m\u001b[0;34m\u001b[0m\u001b[0m\n",
      "\u001b[0;32m~/opt/anaconda3/lib/python3.8/site-packages/plotly/express/_core.py\u001b[0m in \u001b[0;36mbuild_dataframe\u001b[0;34m(args, constructor)\u001b[0m\n\u001b[1;32m   1403\u001b[0m                 \u001b[0mdtype\u001b[0m \u001b[0;34m=\u001b[0m \u001b[0mv_dtype\u001b[0m\u001b[0;34m\u001b[0m\u001b[0;34m\u001b[0m\u001b[0m\n\u001b[1;32m   1404\u001b[0m             \u001b[0;32melif\u001b[0m \u001b[0mdtype\u001b[0m \u001b[0;34m!=\u001b[0m \u001b[0mv_dtype\u001b[0m\u001b[0;34m:\u001b[0m\u001b[0;34m\u001b[0m\u001b[0;34m\u001b[0m\u001b[0m\n\u001b[0;32m-> 1405\u001b[0;31m                 raise ValueError(\n\u001b[0m\u001b[1;32m   1406\u001b[0m                     \u001b[0;34m\"Plotly Express cannot process wide-form data with columns of different type.\"\u001b[0m\u001b[0;34m\u001b[0m\u001b[0;34m\u001b[0m\u001b[0m\n\u001b[1;32m   1407\u001b[0m                 )\n",
      "\u001b[0;31mValueError\u001b[0m: Plotly Express cannot process wide-form data with columns of different type."
     ]
    }
   ],
   "source": [
    "px.line(sd[columns_to_graph])"
   ]
  },
  {
   "cell_type": "code",
   "execution_count": 21,
   "metadata": {},
   "outputs": [
    {
     "data": {
      "text/plain": [
       "Index(['English Language Arts 6', 'Mathematics 6', 'Mathematics 6',\n",
       "       'Science 6', 'Science 6', 'Social Studies 6', 'Social Studies 6'],\n",
       "      dtype='object', name='Course Name')"
      ]
     },
     "execution_count": 21,
     "metadata": {},
     "output_type": "execute_result"
    }
   ],
   "source": [
    "sd[columns_to_graph].set_index('Course Name').index"
   ]
  }
 ],
 "metadata": {
  "kernelspec": {
   "display_name": "Python 3",
   "language": "python",
   "name": "python3"
  },
  "language_info": {
   "codemirror_mode": {
    "name": "ipython",
    "version": 3
   },
   "file_extension": ".py",
   "mimetype": "text/x-python",
   "name": "python",
   "nbconvert_exporter": "python",
   "pygments_lexer": "ipython3",
   "version": "3.8.3"
  }
 },
 "nbformat": 4,
 "nbformat_minor": 4
}
