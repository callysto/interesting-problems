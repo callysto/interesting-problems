{
 "cells": [
  {
   "cell_type": "markdown",
   "metadata": {},
   "source": [
    "# New Quadratic Solution\n",
    "\n",
    "Po-Shen Loh: https://www.poshenloh.com/quadraticdetail\n",
    "\n",
    "\n",
    "1. If you find $r$ and $s$ with sum $-B$ and product $C$, then $x^2 + Bx + C = (x - r)(x - s)$, and they are all the roots\n",
    "\n",
    "2. Two numbers sum to $-B$ when they are $-\\frac{B}{2} \\pm u$\n",
    " \n",
    "3. Their product is $C$ when $\\frac{B^2}{4} - u^2 = C$\n",
    "\n",
    "4. Square root always gives valid $u$\n",
    "\n",
    "5. Thus $-\\frac{B}{2} \\pm u$ work as $r$ and $s$, and are all the roots"
   ]
  },
  {
   "cell_type": "code",
   "execution_count": 47,
   "metadata": {},
   "outputs": [],
   "source": [
    "# declare the values of a, b, and c\n",
    "a = 1\n",
    "b = 6\n",
    "c = 5"
   ]
  },
  {
   "cell_type": "code",
   "execution_count": 48,
   "metadata": {},
   "outputs": [
    {
     "name": "stdout",
     "output_type": "stream",
     "text": [
      "The roots are -1.0 and -5.0\n"
     ]
    }
   ],
   "source": [
    "# using the quadratic formula\n",
    "\n",
    "x1 = (-b + (b**2 - 4*a*c)**(1/2)) / (2 * a)\n",
    "x2 = (-b - (b**2 - 4*a*c)**(1/2)) / (2 * a)\n",
    "print('The roots are', x1, 'and', x2)"
   ]
  },
  {
   "cell_type": "code",
   "execution_count": 51,
   "metadata": {},
   "outputs": [
    {
     "name": "stdout",
     "output_type": "stream",
     "text": [
      "a(x-h)^2+k\n",
      "h = -3.0 and k = -4.0\n"
     ]
    }
   ],
   "source": [
    "# completing the square\n",
    "\n",
    "h = -b / (2*a)\n",
    "k = c - (b**2)/(4*a)\n",
    "print('a(x-h)^2+k')\n",
    "print('h =', h , 'and k =', k)"
   ]
  },
  {
   "cell_type": "code",
   "execution_count": 52,
   "metadata": {},
   "outputs": [
    {
     "name": "stdout",
     "output_type": "stream",
     "text": [
      "[1, -1, 5, -5]\n",
      "-1 -5\n",
      "-5 -1\n"
     ]
    }
   ],
   "source": [
    "# factoring with guessing\n",
    "\n",
    "factors_of_c = []\n",
    "for i in range(1, c+1):\n",
    "    if c % i == 0:\n",
    "        factors_of_c.append(i)\n",
    "        factors_of_c.append(-i)\n",
    "print(factors_of_c)\n",
    "\n",
    "for factor1 in factors_of_c:\n",
    "    for factor2 in factors_of_c:\n",
    "        if factor1 + factor2 == -b:\n",
    "            print(factor1, factor2)"
   ]
  },
  {
   "cell_type": "code",
   "execution_count": 53,
   "metadata": {},
   "outputs": [
    {
     "name": "stdout",
     "output_type": "stream",
     "text": [
      "1 6.0 5.0\n"
     ]
    }
   ],
   "source": [
    "# factoring without guessing **This is the magic**\n",
    "\n",
    "# divide all terms by a so a = 1\n",
    "b = b/a\n",
    "c = c/a\n",
    "a = 1\n",
    "\n",
    "# average of the two roots will add up to -b, so v + v = -b\n",
    "v = -b/2\n",
    "\n",
    "# the two roots can be represented by v+u and v-u (average ± some number)\n",
    "# the product of the two roots is c, so (v+u)(v-u) = c which means v^2 - u^2 = c\n",
    "# and we can find u = (v^)\n",
    "\n",
    "\n",
    "# (d+u)(d-u) = c where d=-b/2 so  d - u**2 = c  therefore  u = (d - c)**(1/2)\n",
    "# then find two numbers\n"
   ]
  },
  {
   "cell_type": "code",
   "execution_count": 23,
   "metadata": {},
   "outputs": [
    {
     "data": {
      "image/png": "[encoded data removed]",
      "text/plain": [
       "<Figure size 432x288 with 1 Axes>"
      ]
     },
     "metadata": {
      "needs_background": "light"
     },
     "output_type": "display_data"
    }
   ],
   "source": [
    "# graphing\n",
    "import numpy as np\n",
    "import matplotlib.pyplot as plt\n",
    "%matplotlib inline\n",
    "\n",
    "vertex_x = -b/(2*a)\n",
    "x = np.linspace(vertex_x-5, vertex_x+5, 100)\n",
    "y = a*x**2 + b*x + c\n",
    "\n",
    "plt.plot(x, y)\n",
    "plt.show()"
   ]
  }
 ],
 "metadata": {
  "kernelspec": {
   "display_name": "Python 3",
   "language": "python",
   "name": "python3"
  },
  "language_info": {
   "codemirror_mode": {
    "name": "ipython",
    "version": 3
   },
   "file_extension": ".py",
   "mimetype": "text/x-python",
   "name": "python",
   "nbconvert_exporter": "python",
   "pygments_lexer": "ipython3",
   "version": "3.7.3"
  }
 },
 "nbformat": 4,
 "nbformat_minor": 2
}
